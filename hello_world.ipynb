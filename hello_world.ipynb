{
 "cells": [
  {
   "cell_type": "code",
   "execution_count": 15,
   "id": "f10263d5",
   "metadata": {},
   "outputs": [
    {
     "name": "stdout",
     "output_type": "stream",
     "text": [
      "Hello Python world!\n",
      "Hello Python Crash Course world!\n"
     ]
    }
   ],
   "source": [
    "message= \"Hello Python world!\" #This is a variable \n",
    "print(message)\n",
    "message = 'Hello Python Crash Course world!'\n",
    "print(message)"
   ]
  },
  {
   "cell_type": "code",
   "execution_count": 20,
   "id": "dbb3ffa9",
   "metadata": {},
   "outputs": [
    {
     "name": "stdout",
     "output_type": "stream",
     "text": [
      "Ada Lovelace\n",
      "ADA LOVELACE\n",
      "ada lovelace\n"
     ]
    }
   ],
   "source": [
    "name= 'ada lovelace'\n",
    "print(name.title()) #capitalize method\n",
    "print(name.upper())#All upper case method\n",
    "print(name.lower())# all lower case method"
   ]
  },
  {
   "cell_type": "code",
   "execution_count": 24,
   "id": "e6645876",
   "metadata": {},
   "outputs": [
    {
     "name": "stdout",
     "output_type": "stream",
     "text": [
      "ada lovelace\n",
      "Hello, Ada Lovelace!\n",
      "Hello, Ada Lovelace!\n"
     ]
    }
   ],
   "source": [
    "first_name ='ada'\n",
    "last_name='lovelace'\n",
    "full_name=f'{first_name} {last_name}'#these are called format-strings (replaces variables in the string)\n",
    "print(full_name)\n",
    "print(f'Hello, {full_name.title()}!')\n",
    "message = f'Hello, {full_name.title()}!'\n",
    "print(message)"
   ]
  },
  {
   "cell_type": "code",
   "execution_count": 25,
   "id": "29845338",
   "metadata": {},
   "outputs": [
    {
     "name": "stdout",
     "output_type": "stream",
     "text": [
      "Python\n",
      "\tPython\n"
     ]
    }
   ],
   "source": [
    "print('Python')\n",
    "print('\\tPython')"
   ]
  },
  {
   "cell_type": "code",
   "execution_count": 27,
   "id": "9aba7035",
   "metadata": {},
   "outputs": [
    {
     "name": "stdout",
     "output_type": "stream",
     "text": [
      "Languages:\n",
      "\tPythong\n",
      "\tPython\n",
      "\tC\n",
      "\tJavaScript\n"
     ]
    }
   ],
   "source": [
    "print('Languages:\\n\\tPythong\\n\\tPython\\n\\tC\\n\\tJavaScript')"
   ]
  },
  {
   "cell_type": "code",
   "execution_count": 37,
   "id": "8cc44d68",
   "metadata": {},
   "outputs": [
    {
     "data": {
      "text/plain": [
       "'python'"
      ]
     },
     "execution_count": 37,
     "metadata": {},
     "output_type": "execute_result"
    }
   ],
   "source": [
    "# To remove all white space from a string to help clean user input\n",
    "favorite_language = ' python '\n",
    "favorite_language\n",
    "favorite_language= favorite_language.rstrip() # there is also lstrip()\n",
    "favorite_language\n",
    "favorite_language = favorite_language.strip()\n",
    "favorite_language"
   ]
  },
  {
   "cell_type": "code",
   "execution_count": 38,
   "id": "fa0efbfb",
   "metadata": {},
   "outputs": [
    {
     "ename": "SyntaxError",
     "evalue": "invalid syntax (<ipython-input-38-4f6216832486>, line 1)",
     "output_type": "error",
     "traceback": [
      "\u001b[1;36m  File \u001b[1;32m\"<ipython-input-38-4f6216832486>\"\u001b[1;36m, line \u001b[1;32m1\u001b[0m\n\u001b[1;33m    message = 'One of Python's strenghts is its diverse community.'\u001b[0m\n\u001b[1;37m                             ^\u001b[0m\n\u001b[1;31mSyntaxError\u001b[0m\u001b[1;31m:\u001b[0m invalid syntax\n"
     ]
    }
   ],
   "source": [
    "#Syntax Error \n",
    "message = 'One of Python's strenghts is its diverse community.'\n",
    "print(message)"
   ]
  },
  {
   "cell_type": "code",
   "execution_count": 40,
   "id": "18da9327",
   "metadata": {},
   "outputs": [
    {
     "name": "stdout",
     "output_type": "stream",
     "text": [
      "One of Python's strenghts is its diverse community.\n"
     ]
    }
   ],
   "source": [
    "message = \"One of Python's strenghts is its diverse community.\"\n",
    "print(message)"
   ]
  },
  {
   "cell_type": "code",
   "execution_count": 42,
   "id": "7495e09a",
   "metadata": {
    "scrolled": true
   },
   "outputs": [
    {
     "data": {
      "text/plain": [
       "'Hello Eric, Would You Like To Learn Some Python Today?'"
      ]
     },
     "execution_count": 42,
     "metadata": {},
     "output_type": "execute_result"
    }
   ],
   "source": [
    "message =\"hello Eric, would you like to learn some Python today?\"\n",
    "message.title()"
   ]
  },
  {
   "cell_type": "code",
   "execution_count": 48,
   "id": "762e095a",
   "metadata": {},
   "outputs": [
    {
     "data": {
      "text/plain": [
       "20"
      ]
     },
     "execution_count": 48,
     "metadata": {},
     "output_type": "execute_result"
    }
   ],
   "source": [
    "2+3\n",
    "3-2\n",
    "2*3\n",
    "3**3\n",
    "10**6\n",
    "(2+3) *4"
   ]
  },
  {
   "cell_type": "code",
   "execution_count": 49,
   "id": "f77b4717",
   "metadata": {},
   "outputs": [
    {
     "data": {
      "text/plain": [
       "2.0"
      ]
     },
     "execution_count": 49,
     "metadata": {},
     "output_type": "execute_result"
    }
   ],
   "source": [
    "#any interger with decimals is called a float\n",
    "4/2"
   ]
  },
  {
   "cell_type": "code",
   "execution_count": 50,
   "id": "3d9fcf97",
   "metadata": {},
   "outputs": [
    {
     "name": "stdout",
     "output_type": "stream",
     "text": [
      "14000000000\n"
     ]
    }
   ],
   "source": [
    "#when you print a number using underscores, python only shows the numbers\n",
    "universe_age = 14_000_000_000\n",
    "print(universe_age)"
   ]
  },
  {
   "cell_type": "code",
   "execution_count": 52,
   "id": "e999e18d",
   "metadata": {},
   "outputs": [
    {
     "data": {
      "text/plain": [
       "0"
      ]
     },
     "execution_count": 52,
     "metadata": {},
     "output_type": "execute_result"
    }
   ],
   "source": [
    "#Setting multiple variables to a number (when initialize a variable in a class/loop)\n",
    "x,y,z = 0, 0, 0\n",
    "x"
   ]
  },
  {
   "cell_type": "code",
   "execution_count": null,
   "id": "245ee416",
   "metadata": {},
   "outputs": [],
   "source": [
    "#When setting your variable to a constant, capitalize all the letters \n",
    "MAX_CONNECTIONS= 5000"
   ]
  },
  {
   "cell_type": "code",
   "execution_count": 2,
   "id": "e3c0854f",
   "metadata": {},
   "outputs": [
    {
     "name": "stdout",
     "output_type": "stream",
     "text": [
      "My favorite number is 21\n"
     ]
    }
   ],
   "source": [
    "favorite_number = 21\n",
    "print(f\"My favorite number is {favorite_number}\")"
   ]
  },
  {
   "cell_type": "code",
   "execution_count": 1,
   "id": "e7ee3a3f",
   "metadata": {
    "scrolled": true
   },
   "outputs": [
    {
     "name": "stdout",
     "output_type": "stream",
     "text": [
      "The Zen of Python, by Tim Peters\n",
      "\n",
      "Beautiful is better than ugly.\n",
      "Explicit is better than implicit.\n",
      "Simple is better than complex.\n",
      "Complex is better than complicated.\n",
      "Flat is better than nested.\n",
      "Sparse is better than dense.\n",
      "Readability counts.\n",
      "Special cases aren't special enough to break the rules.\n",
      "Although practicality beats purity.\n",
      "Errors should never pass silently.\n",
      "Unless explicitly silenced.\n",
      "In the face of ambiguity, refuse the temptation to guess.\n",
      "There should be one-- and preferably only one --obvious way to do it.\n",
      "Although that way may not be obvious at first unless you're Dutch.\n",
      "Now is better than never.\n",
      "Although never is often better than *right* now.\n",
      "If the implementation is hard to explain, it's a bad idea.\n",
      "If the implementation is easy to explain, it may be a good idea.\n",
      "Namespaces are one honking great idea -- let's do more of those!\n"
     ]
    }
   ],
   "source": [
    "import this "
   ]
  },
  {
   "cell_type": "code",
   "execution_count": null,
   "id": "030229e3",
   "metadata": {},
   "outputs": [],
   "source": [
    "CHAPTER 3"
   ]
  },
  {
   "cell_type": "code",
   "execution_count": 5,
   "id": "6feba37f",
   "metadata": {},
   "outputs": [
    {
     "name": "stdout",
     "output_type": "stream",
     "text": [
      "['trek', 'cannondale', 'redline', 'specialized']\n"
     ]
    }
   ],
   "source": [
    "bicycles = [ 'trek','cannondale','redline','specialized']\n",
    "print(bicycles)"
   ]
  },
  {
   "cell_type": "code",
   "execution_count": 6,
   "id": "e9e76698",
   "metadata": {},
   "outputs": [
    {
     "name": "stdout",
     "output_type": "stream",
     "text": [
      "trek\n"
     ]
    }
   ],
   "source": [
    "print(bicycles[0])"
   ]
  },
  {
   "cell_type": "code",
   "execution_count": 14,
   "id": "7278e1fb",
   "metadata": {},
   "outputs": [
    {
     "name": "stdout",
     "output_type": "stream",
     "text": [
      "Trek\n",
      "cannondale\n",
      "specialized\n",
      "specialized\n",
      "redline\n"
     ]
    }
   ],
   "source": [
    "print(bicycles[0].title().strip())\n",
    "print(bicycles[1])\n",
    "print(bicycles[3])\n",
    "print(bicycles[-1])\n",
    "print(bicycles[-2])"
   ]
  },
  {
   "cell_type": "code",
   "execution_count": 16,
   "id": "7be65d61",
   "metadata": {},
   "outputs": [
    {
     "name": "stdout",
     "output_type": "stream",
     "text": [
      "My first bicycles was a Trek.\n"
     ]
    }
   ],
   "source": [
    "message = f\"My first bicycles was a {bicycles[0].title()}.\"\n",
    "print(message)"
   ]
  },
  {
   "cell_type": "code",
   "execution_count": 21,
   "id": "308fb228",
   "metadata": {},
   "outputs": [
    {
     "name": "stdout",
     "output_type": "stream",
     "text": [
      "['honda', 'yamaha', 'suzuki']\n",
      "['ducati', 'yamaha', 'suzuki']\n"
     ]
    }
   ],
   "source": [
    "motorcycles = ['honda','yamaha','suzuki']\n",
    "print(motorcycles)\n",
    "motorcycles[0]='ducati' #this will replace the value in the 1st index\n",
    "print(motorcycles)"
   ]
  },
  {
   "cell_type": "code",
   "execution_count": 26,
   "id": "3771e6b5",
   "metadata": {},
   "outputs": [
    {
     "name": "stdout",
     "output_type": "stream",
     "text": [
      "['honda', 'yamaha', 'suzuki', 'ducati']\n"
     ]
    }
   ],
   "source": [
    "motorcycles=['honda','yamaha','suzuki']\n",
    "motorcycles.append('ducati') #append adds something to the end of the list\n",
    "print(motorcycles)"
   ]
  },
  {
   "cell_type": "code",
   "execution_count": 30,
   "id": "167dfe88",
   "metadata": {},
   "outputs": [
    {
     "name": "stdout",
     "output_type": "stream",
     "text": [
      "['honda']\n",
      "['honda', 'yamaha']\n",
      "['honda', 'yamaha', 'suzuki']\n"
     ]
    }
   ],
   "source": [
    "motorcycles = []\n",
    "motorcycles.append('honda')\n",
    "print(motorcycles)\n",
    "motorcycles.append('yamaha')\n",
    "print(motorcycles)\n",
    "motorcycles.append('suzuki')\n",
    "print(motorcycles)"
   ]
  },
  {
   "cell_type": "code",
   "execution_count": 32,
   "id": "7c25e615",
   "metadata": {},
   "outputs": [
    {
     "name": "stdout",
     "output_type": "stream",
     "text": [
      "['ducati', 'honda', 'yamaha', 'suzuki']\n"
     ]
    }
   ],
   "source": [
    "motorcycles=['honda','yamaha','suzuki']\n",
    "motorcycles.insert(0,'ducati') # this allows you to add to the list in any location you want\n",
    "print(motorcycles)"
   ]
  },
  {
   "cell_type": "code",
   "execution_count": 35,
   "id": "39d330a7",
   "metadata": {},
   "outputs": [
    {
     "name": "stdout",
     "output_type": "stream",
     "text": [
      "['honda', 'yamaha', 'suzuki']\n",
      "['yamaha', 'suzuki']\n",
      "['yamaha']\n"
     ]
    }
   ],
   "source": [
    "motorcycles=['honda','yamaha','suzuki']\n",
    "print(motorcycles)\n",
    "del motorcycles[0]#removes specific index\n",
    "print(motorcycles)\n",
    "del motorcycles[1]\n",
    "print(motorcycles)"
   ]
  },
  {
   "cell_type": "code",
   "execution_count": 37,
   "id": "0d4d0427",
   "metadata": {
    "scrolled": true
   },
   "outputs": [
    {
     "name": "stdout",
     "output_type": "stream",
     "text": [
      "['honda', 'yamaha', 'suzuki']\n",
      "['honda', 'yamaha']\n",
      "suzuki\n"
     ]
    }
   ],
   "source": [
    "# The pop() method allows you to soft delete the last value of an idex from a list\n",
    "motorcycles=['honda','yamaha','suzuki']\n",
    "print(motorcycles)\n",
    "\n",
    "popped_motorcycle = motorcycles.pop()\n",
    "print(motorcycles)\n",
    "print(popped_motorcycle)"
   ]
  },
  {
   "cell_type": "code",
   "execution_count": 39,
   "id": "f56c9926",
   "metadata": {
    "scrolled": true
   },
   "outputs": [
    {
     "name": "stdout",
     "output_type": "stream",
     "text": [
      "['honda', 'yamaha', 'suzuki']\n",
      "The last motorcycle I owned was a Suzuki\n"
     ]
    }
   ],
   "source": [
    "motorcycles=['honda','yamaha','suzuki']\n",
    "print(motorcycles)\n",
    "last_owned= motorcycles.pop()\n",
    "print(f\"The last motorcycle I owned was a {last_owned.title()}\")"
   ]
  },
  {
   "cell_type": "code",
   "execution_count": 41,
   "id": "d10b8354",
   "metadata": {},
   "outputs": [
    {
     "name": "stdout",
     "output_type": "stream",
     "text": [
      "['honda', 'yamaha', 'suzuki']\n",
      "The first motorcycle I owned was a Honda\n"
     ]
    }
   ],
   "source": [
    "motorcycles=['honda','yamaha','suzuki']\n",
    "print(motorcycles)\n",
    "first_owned= motorcycles.pop(0) # you can pop an index from any location\n",
    "print(f\"The first motorcycle I owned was a {first_owned.title()}\")"
   ]
  },
  {
   "cell_type": "code",
   "execution_count": 50,
   "id": "4a8befa3",
   "metadata": {
    "scrolled": true
   },
   "outputs": [
    {
     "name": "stdout",
     "output_type": "stream",
     "text": [
      "['honda', 'yamaha', 'suzuki', 'ducati']\n",
      "['honda', 'yamaha', 'suzuki']\n",
      "\n",
      "A Ducati is too expensive for me.\n"
     ]
    }
   ],
   "source": [
    "motorcycles=['honda','yamaha','suzuki','ducati']\n",
    "print(motorcycles)\n",
    "too_expensive='ducati'\n",
    "motorcycles.remove(too_expensive) #if you dont know where the index is, you can remove the value\n",
    "print(motorcycles)\n",
    "print(f\"\\nA {too_expensive.title()} is too expensive for me.\")#Remove will only remove the first occurence of that value. If there are more than 1, the 2nd will still exist"
   ]
  },
  {
   "cell_type": "code",
   "execution_count": 58,
   "id": "b42279c5",
   "metadata": {},
   "outputs": [
    {
     "name": "stdout",
     "output_type": "stream",
     "text": [
      "['audi', 'bmw', 'subaru', 'toyota']\n",
      "['toyota', 'subaru', 'bmw', 'audi']\n",
      "['audi', 'bmw', 'subaru', 'toyota']\n"
     ]
    }
   ],
   "source": [
    "#Orgnazing lists\n",
    "cars = ['bmw','audi','toyota','subaru']\n",
    "cars.sort() #sort method sorts in alphabetical order\n",
    "print(cars)\n",
    "cars.sort(reverse=True) #reverse alphabetical order\n",
    "print(cars)\n",
    "#sorted function allows you to display the list in a sorted way without affecting the original list\n",
    "print(sorted(cars))"
   ]
  },
  {
   "cell_type": "code",
   "execution_count": 65,
   "id": "57fe77e0",
   "metadata": {
    "scrolled": true
   },
   "outputs": [
    {
     "name": "stdout",
     "output_type": "stream",
     "text": [
      "Here is the original list\n",
      "['bmw', 'audi', 'toyota', 'subaru']\n",
      "\n",
      "Here is the sorted list:\n",
      "['audi', 'bmw', 'subaru', 'toyota']\n",
      "\n",
      "Here is the original list again:\n",
      "['bmw', 'audi', 'toyota', 'subaru']\n",
      "\n",
      "Here is the revserse sorted list:\n",
      "['toyota', 'subaru', 'bmw', 'audi']\n"
     ]
    }
   ],
   "source": [
    "cars = ['bmw','audi','toyota','subaru']\n",
    "print('Here is the original list')\n",
    "print(cars)\n",
    "print('\\nHere is the sorted list:')\n",
    "print(sorted(cars))\n",
    "print('\\nHere is the original list again:')\n",
    "print(cars)\n",
    "print('\\nHere is the revserse sorted list:')\n",
    "print(sorted(cars,reverse = True))"
   ]
  },
  {
   "cell_type": "code",
   "execution_count": 68,
   "id": "5b30988b",
   "metadata": {},
   "outputs": [
    {
     "name": "stdout",
     "output_type": "stream",
     "text": [
      "['bmw', 'audi', 'toyota', 'subaru']\n",
      "['subaru', 'toyota', 'audi', 'bmw']\n",
      "4\n"
     ]
    }
   ],
   "source": [
    "cars = ['bmw','audi','toyota','subaru']\n",
    "print(cars)\n",
    "cars.reverse() #reverse takes the original order of the list and simply reverses the original order\n",
    "print(cars)\n",
    "print(len(cars))"
   ]
  },
  {
   "cell_type": "code",
   "execution_count": null,
   "id": "fce0670e",
   "metadata": {},
   "outputs": [],
   "source": [
    "CHAPTER 4"
   ]
  },
  {
   "cell_type": "code",
   "execution_count": 78,
   "id": "ef7ff21c",
   "metadata": {},
   "outputs": [
    {
     "name": "stdout",
     "output_type": "stream",
     "text": [
      "alice\n",
      "david\n",
      "carolina\n"
     ]
    }
   ],
   "source": [
    "magicians = ['alice','david','carolina']\n",
    "for i in magicians: # tells Python to pull a name from \"magicians\" and associate it with magician\n",
    "    print(i)"
   ]
  },
  {
   "cell_type": "code",
   "execution_count": 84,
   "id": "9d26400b",
   "metadata": {},
   "outputs": [
    {
     "name": "stdout",
     "output_type": "stream",
     "text": [
      "Alice, that was a great trick!\n",
      "\tI can't wait to see your next trick, Alice.\n",
      "\n",
      "David, that was a great trick!\n",
      "\tI can't wait to see your next trick, David.\n",
      "\n",
      "Carolina, that was a great trick!\n",
      "\tI can't wait to see your next trick, Carolina.\n",
      "\n",
      "Thank you, everyone. That was a great magic show!\n"
     ]
    }
   ],
   "source": [
    "magicians = ['alice','david','carolina']\n",
    "for i in magicians: # tells Python to pull a name from \"magicians\" and associate it with magician\n",
    "    print(f\"{i.title()}, that was a great trick!\")\n",
    "    print(f\"\\tI can't wait to see your next trick, {i.title()}.\\n\")\n",
    "print(\"Thank you, everyone. That was a great magic show!\")"
   ]
  },
  {
   "cell_type": "code",
   "execution_count": 91,
   "id": "b921c771",
   "metadata": {},
   "outputs": [
    {
     "name": "stdout",
     "output_type": "stream",
     "text": [
      "I like cheese pizza.\n",
      "I like pepperoni pizza.\n",
      "I like sausage pizza.\n",
      "I really love pizza\n"
     ]
    }
   ],
   "source": [
    "pizzas = ['cheese','pepperoni','sausage']\n",
    "for i in (pizzas):\n",
    "    print(f\"I like {i} pizza.\")\n",
    "print('I really love pizza')"
   ]
  },
  {
   "cell_type": "code",
   "execution_count": 93,
   "id": "0135f2b7",
   "metadata": {},
   "outputs": [
    {
     "name": "stdout",
     "output_type": "stream",
     "text": [
      "1\n",
      "2\n",
      "3\n",
      "4\n",
      "5\n"
     ]
    }
   ],
   "source": [
    "for i in range(1,5+1): #upper bound is always excluded\n",
    "    print(i)"
   ]
  },
  {
   "cell_type": "code",
   "execution_count": 95,
   "id": "974374c5",
   "metadata": {},
   "outputs": [
    {
     "name": "stdout",
     "output_type": "stream",
     "text": [
      "[1, 2, 3, 4, 5]\n"
     ]
    }
   ],
   "source": [
    "numbers = list(range(1,6)) #list function puts your range in a nice list\n",
    "print(numbers)"
   ]
  },
  {
   "cell_type": "code",
   "execution_count": 96,
   "id": "c86d6672",
   "metadata": {
    "scrolled": true
   },
   "outputs": [
    {
     "name": "stdout",
     "output_type": "stream",
     "text": [
      "[2, 4, 6, 8, 10]\n"
     ]
    }
   ],
   "source": [
    "even_numbers = list(range(2,11,2)) #the 3rd argument in range is odd,even\n",
    "print(even_numbers)"
   ]
  },
  {
   "cell_type": "code",
   "execution_count": 106,
   "id": "2e026df0",
   "metadata": {},
   "outputs": [
    {
     "name": "stdout",
     "output_type": "stream",
     "text": [
      "[1, 4, 9, 16, 25, 36, 49, 64, 81, 100]\n"
     ]
    }
   ],
   "source": [
    "squares= []\n",
    "for i in range(1,11):\n",
    "    square =i ** 2\n",
    "    squares.append(square)\n",
    "print(squares)"
   ]
  },
  {
   "cell_type": "code",
   "execution_count": 112,
   "id": "68bc3e88",
   "metadata": {},
   "outputs": [
    {
     "name": "stdout",
     "output_type": "stream",
     "text": [
      "[1, 4, 9, 16, 25, 36, 49, 64, 81, 100]\n"
     ]
    }
   ],
   "source": [
    "#list comprehension\n",
    "squares = [i**2 for i  in range(1,11)]\n",
    "print(squares)"
   ]
  },
  {
   "cell_type": "code",
   "execution_count": 116,
   "id": "ba1c0285",
   "metadata": {},
   "outputs": [
    {
     "name": "stdout",
     "output_type": "stream",
     "text": [
      "['charles', 'martina', 'michael']\n",
      "['charles', 'martina', 'michael', 'florence']\n",
      "['michael', 'florence', 'eli']\n",
      "['michael', 'florence', 'eli']\n"
     ]
    }
   ],
   "source": [
    "players = ['charles','martina','michael','florence','eli']\n",
    "print(players[0:3]) # the semi colon is called a slice.\n",
    "print(players[:4])\n",
    "print(players[2:])\n",
    "print(players[-3:])"
   ]
  },
  {
   "cell_type": "code",
   "execution_count": 118,
   "id": "1788e82e",
   "metadata": {},
   "outputs": [
    {
     "name": "stdout",
     "output_type": "stream",
     "text": [
      "Here are the first three players on my team:\n",
      "Charles\n",
      "Martina\n",
      "Michael\n"
     ]
    }
   ],
   "source": [
    "players = ['charles','martina','michael','florence','eli']\n",
    "print(\"Here are the first three players on my team:\")\n",
    "for i in players[:3]:\n",
    "    print(i.title())"
   ]
  },
  {
   "cell_type": "code",
   "execution_count": 125,
   "id": "810e2517",
   "metadata": {},
   "outputs": [
    {
     "name": "stdout",
     "output_type": "stream",
     "text": [
      "My favorite foods are:\n",
      "['pizza', 'falafel', 'carrot cake', 'cannoli']\n",
      "\n",
      "My friend's favorite foods are:\n",
      "['pizza', 'falafel', 'carrot cake', 'ice cream']\n"
     ]
    }
   ],
   "source": [
    "#Copying a List\n",
    "my_foods =['pizza','falafel','carrot cake']\n",
    "friends_foods = my_foods[:] #Notice the slice here (this tells python that the variable is equal to my_foods at that point in the code)\n",
    "my_foods.append('cannoli')\n",
    "friends_foods.append('ice cream')\n",
    "print(\"My favorite foods are:\")\n",
    "print( my_foods)\n",
    "print(\"\\nMy friend's favorite foods are:\")\n",
    "print(friends_foods)\n"
   ]
  },
  {
   "cell_type": "code",
   "execution_count": 128,
   "id": "745febeb",
   "metadata": {},
   "outputs": [
    {
     "name": "stdout",
     "output_type": "stream",
     "text": [
      "200\n",
      "50\n"
     ]
    },
    {
     "ename": "TypeError",
     "evalue": "'tuple' object does not support item assignment",
     "output_type": "error",
     "traceback": [
      "\u001b[1;31m---------------------------------------------------------------------------\u001b[0m",
      "\u001b[1;31mTypeError\u001b[0m                                 Traceback (most recent call last)",
      "\u001b[1;32m<ipython-input-128-8bc915045edb>\u001b[0m in \u001b[0;36m<module>\u001b[1;34m\u001b[0m\n\u001b[0;32m      4\u001b[0m \u001b[0mprint\u001b[0m\u001b[1;33m(\u001b[0m\u001b[0mdimensions\u001b[0m\u001b[1;33m[\u001b[0m\u001b[1;36m0\u001b[0m\u001b[1;33m]\u001b[0m\u001b[1;33m)\u001b[0m\u001b[1;33m\u001b[0m\u001b[1;33m\u001b[0m\u001b[0m\n\u001b[0;32m      5\u001b[0m \u001b[0mprint\u001b[0m\u001b[1;33m(\u001b[0m\u001b[0mdimensions\u001b[0m\u001b[1;33m[\u001b[0m\u001b[1;36m1\u001b[0m\u001b[1;33m]\u001b[0m\u001b[1;33m)\u001b[0m\u001b[1;33m\u001b[0m\u001b[1;33m\u001b[0m\u001b[0m\n\u001b[1;32m----> 6\u001b[1;33m \u001b[0mdimensions\u001b[0m\u001b[1;33m[\u001b[0m\u001b[1;36m0\u001b[0m\u001b[1;33m]\u001b[0m\u001b[1;33m=\u001b[0m\u001b[1;36m250\u001b[0m\u001b[1;33m\u001b[0m\u001b[1;33m\u001b[0m\u001b[0m\n\u001b[0m",
      "\u001b[1;31mTypeError\u001b[0m: 'tuple' object does not support item assignment"
     ]
    }
   ],
   "source": [
    "#Tuples (list of items that cannot change) values that cant change is immutable\n",
    "#A tuple looks like a list except you use parenthesis isntead of square brackets\n",
    "dimensions=(200,50)\n",
    "print(dimensions[0])\n",
    "print(dimensions[1])"
   ]
  },
  {
   "cell_type": "code",
   "execution_count": 129,
   "id": "6e0d2486",
   "metadata": {
    "scrolled": true
   },
   "outputs": [
    {
     "name": "stdout",
     "output_type": "stream",
     "text": [
      "200\n",
      "50\n"
     ]
    }
   ],
   "source": [
    "dimensions=(200,50)\n",
    "for i in dimensions:\n",
    "    print(i)"
   ]
  },
  {
   "cell_type": "code",
   "execution_count": 135,
   "id": "e36b6869",
   "metadata": {},
   "outputs": [
    {
     "name": "stdout",
     "output_type": "stream",
     "text": [
      "Original dimensions:\n",
      "200\n",
      "50\n",
      "\n",
      "Modified dimensions:\n",
      "400\n",
      "100\n"
     ]
    }
   ],
   "source": [
    "#Writing over a tuple\n",
    "dimensions=(200,50)\n",
    "print(\"Original dimensions:\")\n",
    "for i in dimensions:\n",
    "    print(i)\n",
    "\n",
    "dimensions=(400,100)\n",
    "print(\"\\nModified dimensions:\")\n",
    "for i in dimensions:\n",
    "    print(i)"
   ]
  },
  {
   "cell_type": "code",
   "execution_count": null,
   "id": "963b2b7e",
   "metadata": {},
   "outputs": [],
   "source": [
    "#When someone wants to make a change to the code, they write a Pep, python enhancement proposal.\n",
    "#Make sure your indents are 4 spaces\n",
    "#each line should be less than 80 characters\n",
    "#separate your code into blocks based on individual functions"
   ]
  },
  {
   "cell_type": "code",
   "execution_count": null,
   "id": "65ed1374",
   "metadata": {},
   "outputs": [],
   "source": [
    "CHAPTER 5"
   ]
  },
  {
   "cell_type": "code",
   "execution_count": 140,
   "id": "c79eddc9",
   "metadata": {},
   "outputs": [
    {
     "name": "stdout",
     "output_type": "stream",
     "text": [
      "Audi\n",
      "BMW\n",
      "Subaru\n",
      "Toyota\n"
     ]
    }
   ],
   "source": [
    "cars = ['audi','bmw','subaru','toyota']\n",
    "for i in cars:\n",
    "    if i=='bmw':\n",
    "        print(i.upper())\n",
    "    else:\n",
    "        print(i.title())"
   ]
  },
  {
   "cell_type": "code",
   "execution_count": 141,
   "id": "42c67121",
   "metadata": {},
   "outputs": [
    {
     "data": {
      "text/plain": [
       "True"
      ]
     },
     "execution_count": 141,
     "metadata": {},
     "output_type": "execute_result"
    }
   ],
   "source": [
    "car = 'bmw' #This sets the variable to something\n",
    "car == 'bmw' #This checks if the variable is something"
   ]
  },
  {
   "cell_type": "code",
   "execution_count": 142,
   "id": "1a26f44c",
   "metadata": {
    "scrolled": true
   },
   "outputs": [
    {
     "data": {
      "text/plain": [
       "True"
      ]
     },
     "execution_count": 142,
     "metadata": {},
     "output_type": "execute_result"
    }
   ],
   "source": [
    "car = 'Audi'\n",
    "car.lower() == 'audi' #If case matters, use a function on the variable"
   ]
  },
  {
   "cell_type": "code",
   "execution_count": 145,
   "id": "b8c06825",
   "metadata": {},
   "outputs": [
    {
     "name": "stdout",
     "output_type": "stream",
     "text": [
      "Hold the anchovies!\n"
     ]
    }
   ],
   "source": [
    "requested_topping = 'mushroom'\n",
    "if requested_topping != 'anchovies':\n",
    "    print(\"Hold the anchovies!\")"
   ]
  },
  {
   "cell_type": "code",
   "execution_count": 146,
   "id": "78538a52",
   "metadata": {},
   "outputs": [
    {
     "data": {
      "text/plain": [
       "True"
      ]
     },
     "execution_count": 146,
     "metadata": {},
     "output_type": "execute_result"
    }
   ],
   "source": [
    "age = 18\n",
    "age ==18"
   ]
  },
  {
   "cell_type": "code",
   "execution_count": 148,
   "id": "9a2aa519",
   "metadata": {},
   "outputs": [
    {
     "name": "stdout",
     "output_type": "stream",
     "text": [
      "That is not the correct answer, Please try again!\n"
     ]
    }
   ],
   "source": [
    "answer = 17 \n",
    "if answer !=42:\n",
    "    print(\"That is not the correct answer, Please try again!\")"
   ]
  },
  {
   "cell_type": "code",
   "execution_count": 153,
   "id": "0edaf83a",
   "metadata": {},
   "outputs": [
    {
     "data": {
      "text/plain": [
       "False"
      ]
     },
     "execution_count": 153,
     "metadata": {},
     "output_type": "execute_result"
    }
   ],
   "source": [
    "age = 19\n",
    "age < 21\n",
    "age <= 21\n",
    "age >21\n",
    "age >= 21"
   ]
  },
  {
   "cell_type": "code",
   "execution_count": 157,
   "id": "db1e975b",
   "metadata": {},
   "outputs": [
    {
     "data": {
      "text/plain": [
       "False"
      ]
     },
     "execution_count": 157,
     "metadata": {},
     "output_type": "execute_result"
    }
   ],
   "source": [
    "#multiple conditions using and/or\n",
    "age_0= 22\n",
    "age_1 = 18\n",
    "(age_0>= 21) and (age_1>= 21)"
   ]
  },
  {
   "cell_type": "code",
   "execution_count": 160,
   "id": "7eb58cb4",
   "metadata": {},
   "outputs": [
    {
     "data": {
      "text/plain": [
       "False"
      ]
     },
     "execution_count": 160,
     "metadata": {},
     "output_type": "execute_result"
    }
   ],
   "source": [
    "age_0 = 22\n",
    "age_1 = 18\n",
    "(age_0>= 21 or age_11 >= 21)\n",
    "age_0 =18\n",
    "(age_0>=21) or (age_1>=21)"
   ]
  },
  {
   "cell_type": "code",
   "execution_count": 166,
   "id": "07eae7f7",
   "metadata": {},
   "outputs": [
    {
     "name": "stdout",
     "output_type": "stream",
     "text": [
      "We dont have that damn topping!\n"
     ]
    }
   ],
   "source": [
    "#The in function\n",
    "requested_toppings =[]\n",
    "requested_toppings.append('mushrooms')\n",
    "requested_toppings.append('onions')\n",
    "requested_toppings.append('pineapple')\n",
    "'mushrooms' in requested_toppings \n",
    "if 'pepperoni' in requested_toppings:\n",
    "    print(\"what kind of cheese would you like?\")\n",
    "else: \n",
    "    print(\"We dont have that damn topping!\")"
   ]
  },
  {
   "cell_type": "code",
   "execution_count": 167,
   "id": "b30b766c",
   "metadata": {},
   "outputs": [
    {
     "name": "stdout",
     "output_type": "stream",
     "text": [
      "what kind of cheese would you like?\n"
     ]
    }
   ],
   "source": [
    "#The not in function\n",
    "requested_toppings =[]\n",
    "requested_toppings.append('mushrooms')\n",
    "requested_toppings.append('onions')\n",
    "requested_toppings.append('pineapple')\n",
    "'mushrooms' in requested_toppings \n",
    "if 'pepperoni' not in requested_toppings:\n",
    "    print(\"what kind of cheese would you like?\")\n",
    "else: \n",
    "    print(\"We dont have that damn topping!\")"
   ]
  },
  {
   "cell_type": "code",
   "execution_count": 169,
   "id": "4ad4b939",
   "metadata": {},
   "outputs": [
    {
     "name": "stdout",
     "output_type": "stream",
     "text": [
      "Marie, you can post a response if you wish.\n"
     ]
    }
   ],
   "source": [
    "banned_users = ['andrew','carolina','david']\n",
    "user = 'marie'\n",
    "if user not in banned_users:\n",
    "    print(f\"{user.title()}, you can post a response if you wish.\")"
   ]
  },
  {
   "cell_type": "code",
   "execution_count": null,
   "id": "a3a9aa95",
   "metadata": {},
   "outputs": [],
   "source": [
    "#Boolean Expressions means conditional test (true/false)\n",
    "game_active = True\n",
    "can_edit = False"
   ]
  },
  {
   "cell_type": "code",
   "execution_count": 176,
   "id": "e6b46ddf",
   "metadata": {},
   "outputs": [
    {
     "name": "stdout",
     "output_type": "stream",
     "text": [
      "sorry, you are too young to vote.\n",
      "Please register to vote as soon as you turn 18!\n"
     ]
    }
   ],
   "source": [
    "age = 17\n",
    "if age >= 18:\n",
    "    print(\"You are old enough to vote!\")\n",
    "    print(\"Have you registered to vote yet?\")\n",
    "else:\n",
    "    print(\"sorry, you are too young to vote.\")\n",
    "    print(\"Please register to vote as soon as you turn 18!\")"
   ]
  },
  {
   "cell_type": "code",
   "execution_count": 177,
   "id": "c9f41968",
   "metadata": {},
   "outputs": [
    {
     "name": "stdout",
     "output_type": "stream",
     "text": [
      "Your addmision cost is $25\n"
     ]
    }
   ],
   "source": [
    "#if-elif-else\n",
    "age = 12\n",
    "if age < 4:\n",
    "    print(\"Your admission cost is $0.\")\n",
    "elif age <18:\n",
    "    print(\"Your addmision cost is $25\")\n",
    "else:\n",
    "    print(\"Your admission cost is $40\")"
   ]
  },
  {
   "cell_type": "code",
   "execution_count": 181,
   "id": "dda0b21b",
   "metadata": {},
   "outputs": [
    {
     "name": "stdout",
     "output_type": "stream",
     "text": [
      "Your admission cost is $25.\n"
     ]
    }
   ],
   "source": [
    "age = 4\n",
    "if age < 4:\n",
    "    price = 0\n",
    "elif age <18:\n",
    "    price =25\n",
    "else:\n",
    "    price = 40\n",
    "print(f\"Your admission cost is ${price}.\")"
   ]
  },
  {
   "cell_type": "code",
   "execution_count": 182,
   "id": "ec6f096b",
   "metadata": {},
   "outputs": [
    {
     "name": "stdout",
     "output_type": "stream",
     "text": [
      "Your admission cost is $25.\n"
     ]
    }
   ],
   "source": [
    "age = 12\n",
    "if age < 4:\n",
    "    price = 0\n",
    "elif age <18:\n",
    "    price =25\n",
    "elif age < 65:\n",
    "    price = 40\n",
    "else:\n",
    "    price = 20\n",
    "print(f\"Your admission cost is ${price}.\")"
   ]
  },
  {
   "cell_type": "code",
   "execution_count": 184,
   "id": "3ccc1ad8",
   "metadata": {},
   "outputs": [
    {
     "name": "stdout",
     "output_type": "stream",
     "text": [
      "Your admission cost is $25.\n"
     ]
    }
   ],
   "source": [
    "age = 12\n",
    "if age < 4:\n",
    "    price = 0\n",
    "elif age <18:\n",
    "    price =25\n",
    "elif age < 65:\n",
    "    price = 40\n",
    "elif age >=65:\n",
    "    price = 20\n",
    "print(f\"Your admission cost is ${price}.\")"
   ]
  },
  {
   "cell_type": "code",
   "execution_count": 186,
   "id": "2a640fc0",
   "metadata": {},
   "outputs": [
    {
     "name": "stdout",
     "output_type": "stream",
     "text": [
      "Adding mushrooms.\n",
      "Adding extra cheese.\n",
      "\n",
      "Finished making your pizza with ['mushrooms', 'extra cheese'].\n"
     ]
    }
   ],
   "source": [
    "#If you need the code to run through all the conditions, use multiple ifs:\n",
    "requested_toppings = ['mushrooms', 'extra cheese']\n",
    "if 'mushrooms' in requested_toppings:\n",
    "    print('Adding mushrooms.')\n",
    "if 'pepperoni' in requested_toppings:\n",
    "    print('Adding pepperoni.')\n",
    "if 'extra cheese' in requested_toppings:\n",
    "    print('Adding extra cheese.')\n",
    "print(f'\\nFinished making your pizza with {requested_toppings}.')"
   ]
  },
  {
   "cell_type": "code",
   "execution_count": 6,
   "id": "cd70ce78",
   "metadata": {},
   "outputs": [
    {
     "name": "stdout",
     "output_type": "stream",
     "text": [
      "Adding mushrooms.\n",
      "Sorry, we are out of green peppers right now.\n",
      "Adding extra cheese.\n",
      "\n",
      "Finished making your pizza!\n"
     ]
    }
   ],
   "source": [
    "requested_toppings = ['mushrooms','green peppers', 'extra cheese']\n",
    "for i in requested_toppings:\n",
    "    if i == 'green peppers':\n",
    "        print(\"Sorry, we are out of green peppers right now.\")\n",
    "    else:\n",
    "        print(f'Adding {i}.')\n",
    "print('\\nFinished making your pizza!')"
   ]
  },
  {
   "cell_type": "code",
   "execution_count": 7,
   "id": "01f9031e",
   "metadata": {},
   "outputs": [
    {
     "name": "stdout",
     "output_type": "stream",
     "text": [
      "Are you sure you want a plain pizza?\n"
     ]
    }
   ],
   "source": [
    "#checking if a list is empty\n",
    "requested_toppings = []\n",
    "if requested_toppings:\n",
    "    for rquested_topping in requested_toppings:\n",
    "        print(f\"Adding {requested_topping}.\")\n",
    "    print(\"\\nFinished making your pizza!\")\n",
    "else:\n",
    "    print(\"Are you sure you want a plain pizza?\")"
   ]
  },
  {
   "cell_type": "code",
   "execution_count": 4,
   "id": "92292240",
   "metadata": {},
   "outputs": [
    {
     "name": "stdout",
     "output_type": "stream",
     "text": [
      "Adding mushrooms.\n",
      "Sorry, we don't have french fries.\n",
      "Adding extra cheese.\n",
      "\n",
      "Finished making your pizza!\n"
     ]
    }
   ],
   "source": [
    "available_toppings = ['mushrooms', 'olives', 'green peppers', 'pepperoni', 'pineapple', 'extra cheese']\n",
    "requested_toppings = ['mushrooms', 'french fries', 'extra cheese']\n",
    "for requested_topping in requested_toppings:\n",
    "    if requested_topping in available_toppings:\n",
    "        print(f\"Adding {requested_topping}.\")\n",
    "    else:\n",
    "        print(f\"Sorry, we don't have {requested_topping}.\")\n",
    "print(\"\\nFinished making your pizza!\")"
   ]
  },
  {
   "cell_type": "code",
   "execution_count": null,
   "id": "07ae2e44",
   "metadata": {},
   "outputs": [],
   "source": [
    "CHAPTER 6"
   ]
  },
  {
   "cell_type": "code",
   "execution_count": 8,
   "id": "6a3a010a",
   "metadata": {},
   "outputs": [
    {
     "name": "stdout",
     "output_type": "stream",
     "text": [
      "green\n",
      "5\n"
     ]
    }
   ],
   "source": [
    "alien_0={'color':'green', 'points':5}\n",
    "print(alien_0['color'])\n",
    "print(alien_0['points'])"
   ]
  },
  {
   "cell_type": "code",
   "execution_count": null,
   "id": "09676a5a",
   "metadata": {},
   "outputs": [],
   "source": [
    "#A dictionary in python is a collection of key-value pairs\n",
    "#A key-value pair is a set of values associated with each other. "
   ]
  },
  {
   "cell_type": "code",
   "execution_count": 10,
   "id": "5fa90d4a",
   "metadata": {},
   "outputs": [
    {
     "name": "stdout",
     "output_type": "stream",
     "text": [
      "You just earned 5 points!\n"
     ]
    }
   ],
   "source": [
    "new_points = alien_0['points']\n",
    "print(f\"You just earned {new_points} points!\")"
   ]
  },
  {
   "cell_type": "code",
   "execution_count": 11,
   "id": "fa9c3d66",
   "metadata": {},
   "outputs": [
    {
     "name": "stdout",
     "output_type": "stream",
     "text": [
      "green\n",
      "{'color': 'green', 'points': 5, 'x_position': 0, 'y_position': 25}\n"
     ]
    }
   ],
   "source": [
    "#Adding new Key_value pairs\n",
    "alien_0={'color':'green', 'points':5}\n",
    "print(alien_0['color'])\n",
    "\n",
    "alien_0['x_position']=0\n",
    "alien_0['y_position']=25\n",
    "print(alien_0)"
   ]
  },
  {
   "cell_type": "code",
   "execution_count": 13,
   "id": "4d76dcf6",
   "metadata": {},
   "outputs": [
    {
     "name": "stdout",
     "output_type": "stream",
     "text": [
      "{'color': 'green', 'points': 5}\n"
     ]
    }
   ],
   "source": [
    "#Starting with an empty dictionary\n",
    "alien_0={}\n",
    "alien_0['color'] = 'green'\n",
    "alien_0['points'] = 5\n",
    "print(alien_0)"
   ]
  },
  {
   "cell_type": "code",
   "execution_count": 15,
   "id": "35e63afb",
   "metadata": {},
   "outputs": [
    {
     "name": "stdout",
     "output_type": "stream",
     "text": [
      "The alien is green.\n",
      "The alien is now yellow.\n"
     ]
    }
   ],
   "source": [
    "alien_0={'color':'green'}\n",
    "print(f\"The alien is {alien_0['color']}.\")\n",
    "alien_0['color'] = 'yellow'\n",
    "print(f\"The alien is now {alien_0['color']}.\")"
   ]
  },
  {
   "cell_type": "code",
   "execution_count": 21,
   "id": "8b8e493a",
   "metadata": {},
   "outputs": [
    {
     "name": "stdout",
     "output_type": "stream",
     "text": [
      "Original position: 0\n",
      "New Position: 2\n"
     ]
    }
   ],
   "source": [
    "alien_0 = {'x_position': 0, 'y_position':25, 'speed':'medium'}\n",
    "print(f\"Original position: {alien_0['x_position']}\")\n",
    "\n",
    "#Move the alien to the right.\n",
    "#Determine how far to move the alien based on its current speed.\n",
    "if alien_0['speed']=='slow':\n",
    "    x_increment=1\n",
    "elif alien_0['speed']=='medium':\n",
    "    x_increment= 2\n",
    "else:\n",
    "    #this must be the fastest alien\n",
    "    x_increment = 3\n",
    "\n",
    "#The new position is the old position plus the increment.\n",
    "alien_0['x_position']=alien_0['x_position']+x_increment\n",
    "\n",
    "print(f\"New Position: {alien_0['x_position']}\")"
   ]
  },
  {
   "cell_type": "code",
   "execution_count": 23,
   "id": "2d9a51b4",
   "metadata": {
    "scrolled": true
   },
   "outputs": [
    {
     "name": "stdout",
     "output_type": "stream",
     "text": [
      "{'color': 'green', 'points': 5}\n",
      "{'color': 'green'}\n"
     ]
    }
   ],
   "source": [
    "#Removing Key-Value Pairs\n",
    "alien_0={'color':'green', 'points':5}\n",
    "print(alien_0)\n",
    "\n",
    "del alien_0['points']\n",
    "print(alien_0)"
   ]
  },
  {
   "cell_type": "code",
   "execution_count": 25,
   "id": "00aa120d",
   "metadata": {},
   "outputs": [],
   "source": [
    "favorite_language = {\n",
    "    'jen': 'python',\n",
    "    'sarah': 'c', \n",
    "    'edward' : 'ruby',\n",
    "    'phil' : 'python',\n",
    "}"
   ]
  },
  {
   "cell_type": "code",
   "execution_count": 27,
   "id": "b2ad15a3",
   "metadata": {},
   "outputs": [
    {
     "name": "stdout",
     "output_type": "stream",
     "text": [
      "Sarah's favorite language is C.\n"
     ]
    }
   ],
   "source": [
    "language = favorite_language['sarah'].title()\n",
    "print(f\"Sarah's favorite language is {language}.\")"
   ]
  },
  {
   "cell_type": "code",
   "execution_count": 28,
   "id": "a00e487f",
   "metadata": {},
   "outputs": [
    {
     "name": "stdout",
     "output_type": "stream",
     "text": [
      "No point value assigned.\n"
     ]
    }
   ],
   "source": [
    "#using get() to Access Values \n",
    "alien_0={'color':'green','speed':'slow'}\n",
    "\n",
    "point_value=alien_0.get('points','No point value assigned.')\n",
    "print(point_value)"
   ]
  },
  {
   "cell_type": "code",
   "execution_count": 31,
   "id": "e601013d",
   "metadata": {},
   "outputs": [
    {
     "name": "stdout",
     "output_type": "stream",
     "text": [
      "\n",
      "Key: username\n",
      "\\Value: efermi\n",
      "\n",
      "Key: first\n",
      "\\Value: enrico\n",
      "\n",
      "Key: last\n",
      "\\Value: fermi\n"
     ]
    }
   ],
   "source": [
    "user_0 = {\n",
    "    'username': 'efermi',\n",
    "    'first': 'enrico',\n",
    "    'last': 'fermi',\n",
    "}\n",
    "for key, value in user_0.items(): # To loop through a dictionary, you have to create a variable for the key/variable\n",
    "    print(f'\\nKey: {key}')\n",
    "    print(f'\\Value: {value}')      "
   ]
  },
  {
   "cell_type": "code",
   "execution_count": 35,
   "id": "a915f11a",
   "metadata": {},
   "outputs": [
    {
     "name": "stdout",
     "output_type": "stream",
     "text": [
      "Jen\n",
      "Sarah\n",
      "Edward\n",
      "Phil\n"
     ]
    }
   ],
   "source": [
    "#Looping through all the keys (When you dont need the values)\n",
    "favorite_language = {\n",
    "    'jen': 'python',\n",
    "    'sarah': 'c', \n",
    "    'edward' : 'ruby',\n",
    "    'phil' : 'python',\n",
    "}\n",
    "\n",
    "for key in favorite_language.keys():\n",
    "#can also be written as\n",
    "# for key in favorite language: #.keys() is the default state\n",
    "    print(key.title())"
   ]
  },
  {
   "cell_type": "code",
   "execution_count": 40,
   "id": "edeba80c",
   "metadata": {},
   "outputs": [
    {
     "name": "stdout",
     "output_type": "stream",
     "text": [
      "Hi Jen\n",
      "Hi Sarah\n",
      "\tSarah, I see you love C!\n",
      "Hi Edward\n",
      "Hi Phil\n",
      "\tPhil, I see you love Python!\n"
     ]
    }
   ],
   "source": [
    "favorite_languages = {\n",
    "    'jen': 'python',\n",
    "    'sarah': 'c', \n",
    "    'edward' : 'ruby',\n",
    "    'phil' : 'python',\n",
    "}\n",
    "friends = {\n",
    "    'phil',\n",
    "    'sarah',\n",
    "}\n",
    "for name in favorite_languages:\n",
    "    print(f\"Hi {name.title()}\")\n",
    "    \n",
    "    if name in friends:\n",
    "        language =favorite_languages[name].title()\n",
    "        print(f\"\\t{name.title()}, I see you love {language}!\")"
   ]
  },
  {
   "cell_type": "code",
   "execution_count": 41,
   "id": "90ed659b",
   "metadata": {
    "scrolled": true
   },
   "outputs": [
    {
     "name": "stdout",
     "output_type": "stream",
     "text": [
      "Erin, please take your poll!\n"
     ]
    }
   ],
   "source": [
    "favorite_languages = {\n",
    "    'jen': 'python',\n",
    "    'sarah': 'c', \n",
    "    'edward' : 'ruby',\n",
    "    'phil' : 'python',\n",
    "}\n",
    "if 'erin' not in favorite_language:\n",
    "    print(\"Erin, please take your poll!\")\n"
   ]
  },
  {
   "cell_type": "code",
   "execution_count": 44,
   "id": "bc0ad98b",
   "metadata": {
    "scrolled": true
   },
   "outputs": [
    {
     "name": "stdout",
     "output_type": "stream",
     "text": [
      "Edward, thank you for taking the poll.\n",
      "Jen, thank you for taking the poll.\n",
      "Phil, thank you for taking the poll.\n",
      "Sarah, thank you for taking the poll.\n"
     ]
    }
   ],
   "source": [
    "#Sorting the keys in the dictionary\n",
    "favorite_languages = {\n",
    "    'jen': 'python',\n",
    "    'sarah': 'c', \n",
    "    'edward' : 'ruby',\n",
    "    'phil' : 'python',\n",
    "}\n",
    "for i in sorted(favorite_languages):\n",
    "    print(f\"{i.title()}, thank you for taking the poll.\")"
   ]
  },
  {
   "cell_type": "code",
   "execution_count": 23,
   "id": "02a82064",
   "metadata": {
    "scrolled": true
   },
   "outputs": [
    {
     "name": "stdout",
     "output_type": "stream",
     "text": [
      "{'color': 'green', 'points': 5}\n",
      "{'color': 'green'}\n"
     ]
    }
   ],
   "source": [
    "#Removing Key-Value Pairs\n",
    "alien_0={'color':'green', 'points':5}\n",
    "print(alien_0)\n",
    "\n",
    "del alien_0['points']\n",
    "print(alien_0)"
   ]
  },
  {
   "cell_type": "code",
   "execution_count": 48,
   "id": "a0ff58c0",
   "metadata": {
    "scrolled": true
   },
   "outputs": [
    {
     "name": "stdout",
     "output_type": "stream",
     "text": [
      "The following languages have been mentioned:\n",
      "Python\n",
      "C\n",
      "Ruby\n",
      "Python\n"
     ]
    }
   ],
   "source": [
    "#Looping through all the values in a dictionary\n",
    "favorite_languages = {\n",
    "    'jen': 'python',\n",
    "    'sarah': 'c', \n",
    "    'edward' : 'ruby',\n",
    "    'phil' : 'python',\n",
    "}\n",
    "print(\"The following languages have been mentioned:\")\n",
    "for i in favorite_languages.values():\n",
    "    print(i.title())"
   ]
  },
  {
   "cell_type": "code",
   "execution_count": 49,
   "id": "115a7393",
   "metadata": {
    "scrolled": true
   },
   "outputs": [
    {
     "name": "stdout",
     "output_type": "stream",
     "text": [
      "C\n",
      "Ruby\n",
      "Python\n"
     ]
    }
   ],
   "source": [
    "#pulling unique values from a dictionary\n",
    "favorite_languages = {\n",
    "    'jen': 'python',\n",
    "    'sarah': 'c', \n",
    "    'edward' : 'ruby',\n",
    "    'phil' : 'python',\n",
    "}\n",
    "for i in set(favorite_languages.values()): # set function pulls out unique values\n",
    "    print(i.title())"
   ]
  },
  {
   "cell_type": "code",
   "execution_count": 23,
   "id": "cb0791db",
   "metadata": {
    "scrolled": true
   },
   "outputs": [
    {
     "name": "stdout",
     "output_type": "stream",
     "text": [
      "{'color': 'green', 'points': 5}\n",
      "{'color': 'green'}\n"
     ]
    }
   ],
   "source": [
    "#Removing Key-Value Pairs\n",
    "alien_0={'color':'green', 'points':5}\n",
    "print(alien_0)\n",
    "\n",
    "del alien_0['points']\n",
    "print(alien_0)"
   ]
  },
  {
   "cell_type": "code",
   "execution_count": 51,
   "id": "8442219f",
   "metadata": {},
   "outputs": [
    {
     "name": "stdout",
     "output_type": "stream",
     "text": [
      "{'color': 'green', 'points': 5}\n",
      "{'color': 'yellow', 'points': 10}\n",
      "{'color': 'red', 'points': 15}\n"
     ]
    }
   ],
   "source": [
    "#Nesting \n",
    "alien_0 = {'color': 'green', 'points': 5}\n",
    "alien_1 = {'color': 'yellow', 'points': 10}\n",
    "alien_2 = {'color': 'red', 'points': 15}\n",
    "\n",
    "aliens = [alien_0,alien_1,alien_2]\n",
    "for  i in aliens:\n",
    "    print(i)"
   ]
  },
  {
   "cell_type": "code",
   "execution_count": 56,
   "id": "436fe619",
   "metadata": {
    "scrolled": true
   },
   "outputs": [
    {
     "name": "stdout",
     "output_type": "stream",
     "text": [
      "{'color': 'yellow', 'points': 10, 'speed': 'medium'}\n",
      "{'color': 'yellow', 'points': 10, 'speed': 'medium'}\n",
      "{'color': 'yellow', 'points': 10, 'speed': 'medium'}\n",
      "{'color': 'green', 'points': 5, 'speed': 'slow'}\n",
      "{'color': 'green', 'points': 5, 'speed': 'slow'}\n",
      "...\n",
      "Total number of aliens : 30\n"
     ]
    }
   ],
   "source": [
    "#changing the properties while using a for loop\n",
    "aliens = []\n",
    "\n",
    "#Make 30 green aliens \n",
    "for alien_number in range(30): #This tells python how many times you want to loop\n",
    "    new_alien={'color':'green', 'points': 5, 'speed':'slow'}\n",
    "    aliens.append(new_alien)\n",
    "for alien in aliens[:3]:\n",
    "    if alien['color']=='green':\n",
    "        alien['color']='yellow'\n",
    "        alien['speed']='medium'\n",
    "        alien['points']=10\n",
    "#show the first 5 aliens\n",
    "for alien in aliens[:5]:\n",
    "    print(alien)\n",
    "print(\"...\")\n",
    "\n",
    "#show how many aliens have been created.\n",
    "print(f\"Total number of aliens : {len(aliens)}\")"
   ]
  },
  {
   "cell_type": "code",
   "execution_count": 59,
   "id": "399e072e",
   "metadata": {},
   "outputs": [
    {
     "name": "stdout",
     "output_type": "stream",
     "text": [
      "You ordered a thick -crust pizzawith the following toppings:\n",
      "\tmushrooms\n",
      "\textra cheese\n"
     ]
    }
   ],
   "source": [
    "#A list in a dictionary\n",
    "#Store information about a pizza being ordered.\n",
    "pizza ={\n",
    "    'crust':'thick',\n",
    "    'toppings': ['mushrooms','extra cheese'],\n",
    "}\n",
    "\n",
    "#Summarize the order.\n",
    "print(f\"You ordered a {pizza['crust']} -crust pizza\"\n",
    "      \"with the following toppings:\")\n",
    "for i in pizza['toppings']:\n",
    "    print(f\"\\t{i}\")"
   ]
  },
  {
   "cell_type": "code",
   "execution_count": 65,
   "id": "cb3db019",
   "metadata": {},
   "outputs": [
    {
     "name": "stdout",
     "output_type": "stream",
     "text": [
      "\n",
      "Jen's favorite langauges are:\n",
      "\tPython\n",
      "\tRuby\n",
      "\n",
      "Sarah's favorite langauges are:\n",
      "\tC\n",
      "\n",
      "Edward's favorite langauges are:\n",
      "\tRuby\n",
      "\tGo\n",
      "\n",
      "Phil's favorite langauges are:\n",
      "\tPython\n",
      "\tHaskell\n"
     ]
    }
   ],
   "source": [
    "favorite_languages = {\n",
    "    'jen': ['python','ruby'],\n",
    "    'sarah': ['c'], \n",
    "    'edward' : ['ruby','go'],\n",
    "    'phil' : ['python','haskell'],\n",
    "}\n",
    "\n",
    "for name, languages in favorite_languages.items():\n",
    "    print(f\"\\n{name.title()}'s favorite langauges are:\")\n",
    "    for language in languages:\n",
    "        print(f\"\\t{language.title()}\")"
   ]
  },
  {
   "cell_type": "code",
   "execution_count": 71,
   "id": "ddd08724",
   "metadata": {},
   "outputs": [
    {
     "name": "stdout",
     "output_type": "stream",
     "text": [
      "\n",
      "Username:aeinstein\n",
      "\tFull name: Albert Einstein\n",
      "\tLocation: Princeton\n",
      "\n",
      "Username:mcurie\n",
      "\tFull name: Maurie Curie\n",
      "\tLocation: Paris\n"
     ]
    }
   ],
   "source": [
    "#A Dictionary in a Dictionary\n",
    "users = {\n",
    "    'aeinstein': {\n",
    "        'first':'albert',\n",
    "        'last':'einstein',\n",
    "        'location':'princeton',\n",
    "    },\n",
    "    'mcurie':{\n",
    "        'first':'maurie',\n",
    "        'last':'curie',\n",
    "        'location':'paris',\n",
    "    },\n",
    "}\n",
    "for username,user_info in users.items():\n",
    "    print(f\"\\nUsername:{username}\")\n",
    "    full_name = f\"{user_info['first']} {user_info['last']}\"\n",
    "    location=user_info['location']\n",
    "    \n",
    "    print(f\"\\tFull name: {full_name.title()}\")\n",
    "    print(f\"\\tLocation: {location.title()}\")"
   ]
  },
  {
   "cell_type": "code",
   "execution_count": null,
   "id": "1efc76de",
   "metadata": {},
   "outputs": [],
   "source": [
    "CHAPTER 7"
   ]
  },
  {
   "cell_type": "code",
   "execution_count": 72,
   "id": "bce00d0c",
   "metadata": {},
   "outputs": [
    {
     "name": "stdout",
     "output_type": "stream",
     "text": [
      "Tell me something, and I will repeate it back to you: Hello everyone!\n",
      "Hello everyone!\n"
     ]
    }
   ],
   "source": [
    "message= input(\"Tell me something, and I will repeate it back to you: \")\n",
    "print(message)"
   ]
  },
  {
   "cell_type": "code",
   "execution_count": 73,
   "id": "4945e5c4",
   "metadata": {},
   "outputs": [
    {
     "name": "stdout",
     "output_type": "stream",
     "text": [
      "Please enter your name: Kevin\n",
      "Kevin\n"
     ]
    }
   ],
   "source": [
    "#Writing clear Prompts \n",
    "name = input(\"Please enter your name: \")\n",
    "print(name)"
   ]
  },
  {
   "cell_type": "code",
   "execution_count": 76,
   "id": "8d8647fb",
   "metadata": {},
   "outputs": [
    {
     "name": "stdout",
     "output_type": "stream",
     "text": [
      "If you tell us who you are, we can personalize the mssages you see.\n",
      "What is your first name? Kevin\n",
      "\n",
      "Hello, Kevin!\n"
     ]
    }
   ],
   "source": [
    "prompt = \"If you tell us who you are, we can personalize the mssages you see.\"\n",
    "prompt += \"\\nWhat is your first name? \" # The += sign helps you build a multi line print\n",
    "\n",
    "name = input(prompt)\n",
    "print(f\"\\nHello, {name}!\")"
   ]
  },
  {
   "cell_type": "code",
   "execution_count": 79,
   "id": "c9b61ca3",
   "metadata": {},
   "outputs": [
    {
     "name": "stdout",
     "output_type": "stream",
     "text": [
      "How old are you30\n"
     ]
    },
    {
     "data": {
      "text/plain": [
       "30"
      ]
     },
     "execution_count": 79,
     "metadata": {},
     "output_type": "execute_result"
    }
   ],
   "source": [
    "#Using int() to accept numerical input\n",
    "age = input(\"How old are you\")\n",
    "int(age)"
   ]
  },
  {
   "cell_type": "code",
   "execution_count": 80,
   "id": "647c51ee",
   "metadata": {},
   "outputs": [
    {
     "name": "stdout",
     "output_type": "stream",
     "text": [
      "How tall are you, in inches? 40\n",
      "\n",
      "You'll be able to ride when you're a little older.\n"
     ]
    }
   ],
   "source": [
    "height = input(\"How tall are you, in inches? \")\n",
    "height = int(height)\n",
    "if height>= 48:\n",
    "    print(\"\\nYou're tall enough to ride!\")\n",
    "else: \n",
    "    print(\"\\nYou'll be able to ride when you're a little older.\")"
   ]
  },
  {
   "cell_type": "code",
   "execution_count": 82,
   "id": "59f66069",
   "metadata": {},
   "outputs": [
    {
     "data": {
      "text/plain": [
       "1"
      ]
     },
     "execution_count": 82,
     "metadata": {},
     "output_type": "execute_result"
    }
   ],
   "source": [
    "#The Modulo Operator  (%)Tells what the remainder is\n",
    "1 % 3"
   ]
  },
  {
   "cell_type": "code",
   "execution_count": 83,
   "id": "22b108e9",
   "metadata": {},
   "outputs": [
    {
     "name": "stdout",
     "output_type": "stream",
     "text": [
      "Enter a number, and I'll tell you if it's even or odd: 2\n",
      "Even\n"
     ]
    }
   ],
   "source": [
    "number = input(\"Enter a number, and I'll tell you if it's even or odd: \")\n",
    "number = int(number)\n",
    "\n",
    "if number % 2 == 0:\n",
    "    print(\"Even\")\n",
    "else:\n",
    "    print('Odd')"
   ]
  },
  {
   "cell_type": "code",
   "execution_count": 1,
   "id": "b24e8ff3",
   "metadata": {},
   "outputs": [
    {
     "name": "stdout",
     "output_type": "stream",
     "text": [
      "1\n",
      "2\n",
      "3\n",
      "4\n",
      "5\n"
     ]
    }
   ],
   "source": [
    "#While Loops\n",
    "current_number = 1\n",
    "while current_number <=5:\n",
    "    print(current_number)\n",
    "    current_number +=1"
   ]
  },
  {
   "cell_type": "code",
   "execution_count": 6,
   "id": "5c85cc7b",
   "metadata": {},
   "outputs": [
    {
     "name": "stdout",
     "output_type": "stream",
     "text": [
      "\n",
      "Tell me something, and I will repeat it back to you:nEnter 'quit' to end the program.quit\n"
     ]
    }
   ],
   "source": [
    "#Letting the User Choose When to quit\n",
    "prompt = \"\\nTell me something, and I will repeat it back to you:\"\n",
    "prompt+= \"nEnter 'quit' to end the program.\"\n",
    "message = ''\n",
    "while message !='quit':\n",
    "    message =input(prompt)\n",
    "    if message !='quit':\n",
    "        print(message)"
   ]
  },
  {
   "cell_type": "code",
   "execution_count": 9,
   "id": "0ff910ec",
   "metadata": {},
   "outputs": [
    {
     "name": "stdout",
     "output_type": "stream",
     "text": [
      "\n",
      "Tell me something, and I will repeat it back to you:nEnter 'quit' to end the program.hi\n",
      "hi\n",
      "\n",
      "Tell me something, and I will repeat it back to you:nEnter 'quit' to end the program.quit\n"
     ]
    }
   ],
   "source": [
    "#flag\n",
    "prompt = \"\\nTell me something, and I will repeat it back to you:\"\n",
    "prompt+= \"nEnter 'quit' to end the program.\"\n",
    "\n",
    "active = True\n",
    "while active:\n",
    "    message = input(prompt)\n",
    "    if message =='quit':\n",
    "        active = False\n",
    "    else:\n",
    "        print(message)"
   ]
  },
  {
   "cell_type": "code",
   "execution_count": 11,
   "id": "2ad77568",
   "metadata": {},
   "outputs": [
    {
     "name": "stdout",
     "output_type": "stream",
     "text": [
      "\n",
      "Please enter the name of a city you have visited:\n",
      "(Enter 'quit' when you are finished.)break\n",
      "I'd love to go to Break!\n",
      "\n",
      "Please enter the name of a city you have visited:\n",
      "(Enter 'quit' when you are finished.)quit\n"
     ]
    }
   ],
   "source": [
    "#Using break to Exit a loop\n",
    "prompt = \"\\nPlease enter the name of a city you have visited:\"\n",
    "prompt += \"\\n(Enter 'quit' when you are finished.)\"\n",
    "\n",
    "while True:\n",
    "    city =input(prompt)\n",
    "    if city == 'quit':\n",
    "        break\n",
    "    else:\n",
    "        print(f\"I'd love to go to {city.title()}!\")"
   ]
  },
  {
   "cell_type": "code",
   "execution_count": 13,
   "id": "0a9b24a1",
   "metadata": {},
   "outputs": [
    {
     "name": "stdout",
     "output_type": "stream",
     "text": [
      "1\n",
      "3\n",
      "5\n",
      "7\n",
      "9\n"
     ]
    }
   ],
   "source": [
    "#Using continue in a loop \n",
    "current_number = 0 \n",
    "while current_number < 10:\n",
    "    current_number += 1\n",
    "    if current_number % 2 ==0:\n",
    "        continue\n",
    "    print(current_number)"
   ]
  },
  {
   "cell_type": "code",
   "execution_count": null,
   "id": "5d605b8a",
   "metadata": {},
   "outputs": [],
   "source": [
    "# To shut down an infinite loop hit control+c"
   ]
  },
  {
   "cell_type": "code",
   "execution_count": 17,
   "id": "4975443b",
   "metadata": {},
   "outputs": [
    {
     "name": "stdout",
     "output_type": "stream",
     "text": [
      "What kind of toppings do you want?cheese\n"
     ]
    },
    {
     "ename": "SyntaxError",
     "evalue": "'continue' not properly in loop (<ipython-input-17-3b9fd7f54eb6>, line 5)",
     "output_type": "error",
     "traceback": [
      "\u001b[1;36m  File \u001b[1;32m\"<ipython-input-17-3b9fd7f54eb6>\"\u001b[1;36m, line \u001b[1;32m5\u001b[0m\n\u001b[1;33m    continue\u001b[0m\n\u001b[1;37m    ^\u001b[0m\n\u001b[1;31mSyntaxError\u001b[0m\u001b[1;31m:\u001b[0m 'continue' not properly in loop\n"
     ]
    }
   ],
   "source": [
    "prompt = 'What kind of toppings do you want?'\n",
    "current_toppings= ''\n",
    "toppings = input(prompt)\n",
    "if toppings != 'quit':\n",
    "  continue\n",
    "print(toppings)"
   ]
  },
  {
   "cell_type": "code",
   "execution_count": 1,
   "id": "d3090cd6",
   "metadata": {},
   "outputs": [
    {
     "name": "stdout",
     "output_type": "stream",
     "text": [
      "\n",
      "Please enter the name of the toppings you want: \n",
      "(Enter 'quit' when you are finished.)cheese\n",
      "Adding cheese\n",
      "\n",
      "Please enter the name of the toppings you want: \n",
      "(Enter 'quit' when you are finished.)sausage\n",
      "Adding sausage\n",
      "\n",
      "Please enter the name of the toppings you want: \n",
      "(Enter 'quit' when you are finished.)quit\n"
     ]
    }
   ],
   "source": [
    "\n",
    "prompt = \"\\nPlease enter the name of the toppings you want: \"\n",
    "prompt += \"\\n(Enter 'quit' when you are finished.)\"\n",
    "\n",
    "while True:\n",
    "    topping =input(prompt)\n",
    "    if topping == 'quit':\n",
    "        break\n",
    "    else:\n",
    "        print(f\"Adding {topping}\")"
   ]
  },
  {
   "cell_type": "code",
   "execution_count": 5,
   "id": "a764e5b3",
   "metadata": {},
   "outputs": [
    {
     "name": "stdout",
     "output_type": "stream",
     "text": [
      "Verifying user: Candace\n",
      "Verifying user: Brian\n",
      "Verifying user: Alice\n",
      "\n",
      "The following users have been confirmed:\n",
      "Candace\n",
      "Brian\n",
      "Alice\n"
     ]
    }
   ],
   "source": [
    "#Using while loop with lists and dictionaries\n",
    "#Moving items from one list to another \n",
    "\n",
    "#Start with users that need to be verified\n",
    "# and an empty list to hold confirmed users.\n",
    "unconfirmed_users=['alice','brian','candace']\n",
    "confirmed_users=[]\n",
    "\n",
    "#Verify each user until there are no more unconfirmed users.\n",
    "#Move each verified user into the list of confirmed users.\n",
    "while unconfirmed_users:\n",
    "    current_user = unconfirmed_users.pop()\n",
    "    \n",
    "    print(f\"Verifying user: {current_user.title()}\")\n",
    "    confirmed_users.append(current_user)\n",
    "#Display all confirmed users.\n",
    "print(\"\\nThe following users have been confirmed:\")\n",
    "for confirmed_user in confirmed_users:\n",
    "          print(confirmed_user.title())"
   ]
  },
  {
   "cell_type": "code",
   "execution_count": 7,
   "id": "b2cc4e50",
   "metadata": {},
   "outputs": [
    {
     "name": "stdout",
     "output_type": "stream",
     "text": [
      "['dog', 'cat', 'dog', 'goldfish', 'cat', 'rabbit', 'cat']\n",
      "['dog', 'dog', 'goldfish', 'rabbit']\n"
     ]
    }
   ],
   "source": [
    "#Removing All Instances of Specific Values from a List\n",
    "pets= ['dog','cat','dog','goldfish','cat','rabbit','cat']\n",
    "print(pets)\n",
    "\n",
    "while 'cat' in pets:\n",
    "    pets.remove('cat')\n",
    "print(pets)"
   ]
  },
  {
   "cell_type": "code",
   "execution_count": 13,
   "id": "d2f1e13e",
   "metadata": {},
   "outputs": [
    {
     "ename": "SyntaxError",
     "evalue": "invalid syntax (<ipython-input-13-94c340d369e2>, line 2)",
     "output_type": "error",
     "traceback": [
      "\u001b[1;36m  File \u001b[1;32m\"<ipython-input-13-94c340d369e2>\"\u001b[1;36m, line \u001b[1;32m2\u001b[0m\n\u001b[1;33m    def fupa()\u001b[0m\n\u001b[1;37m              ^\u001b[0m\n\u001b[1;31mSyntaxError\u001b[0m\u001b[1;31m:\u001b[0m invalid syntax\n"
     ]
    }
   ],
   "source": [
    "#Filling a Dictionary with Uer Input\n",
    "responses = {}\n",
    "#Set a flag to indicate that polling active.\n",
    "polling_active = True\n",
    "while polling_active:\n",
    "    #Prompt for the person's name and response\n",
    "    name = input(\"\\nWhat is your name?\")\n",
    "    response =input(\"Which mountain would you like to climb someday?\")\n",
    "                    \n",
    "    #Store the repsonse in the dictionary\n",
    "    responses[name]=response\n",
    "                    \n",
    "    #Find out if anyone else is going to take the poll\n",
    "    repeat = input(\"Would you like to let another person repspond? (yes/no)\")\n",
    "    if repeat == 'no':\n",
    "        polling_active = False\n",
    "print(\"\\n--- Poll Results ---\")\n",
    "for name, response in responses.items():\n",
    "    print(f\"{name} would like to climb {response}.\")\n"
   ]
  },
  {
   "cell_type": "code",
   "execution_count": null,
   "id": "15f0d2cd",
   "metadata": {},
   "outputs": [],
   "source": [
    "Chapter 8"
   ]
  },
  {
   "cell_type": "code",
   "execution_count": 12,
   "id": "90c63fb1",
   "metadata": {},
   "outputs": [
    {
     "name": "stdout",
     "output_type": "stream",
     "text": [
      "Hello!\n"
     ]
    }
   ],
   "source": [
    "#Defining a function\n",
    "def greet_user():\n",
    "    \"\"\"Display a simple greeting.\"\"\"\n",
    "    print(\"Hello!\")\n",
    "greet_user()"
   ]
  },
  {
   "cell_type": "code",
   "execution_count": 15,
   "id": "bc6791a5",
   "metadata": {},
   "outputs": [
    {
     "name": "stdout",
     "output_type": "stream",
     "text": [
      "Hello Jesse!\n"
     ]
    }
   ],
   "source": [
    "#Passing information to a function\n",
    "def greet_user(username):\n",
    "    \"\"\"Display a simple greeting.\"\"\"\n",
    "    print(f\"Hello {username.title()}!\")\n",
    "greet_user('jesse')"
   ]
  },
  {
   "cell_type": "code",
   "execution_count": null,
   "id": "5f253fd9",
   "metadata": {},
   "outputs": [],
   "source": [
    "#Arguments and Parameters\n",
    "when defining a function, the stuff you put between the parenthesis are arguments.\n",
    "so in the previous code, jesse is an argument and username is the parameter"
   ]
  },
  {
   "cell_type": "code",
   "execution_count": 17,
   "id": "0bd0c073",
   "metadata": {},
   "outputs": [
    {
     "name": "stdout",
     "output_type": "stream",
     "text": [
      "My favorite book is Harry Potter\n"
     ]
    }
   ],
   "source": [
    "def favorite_book(book):\n",
    "    print(f\"My favorite book is {book.title()}\")\n",
    "favorite_book('Harry Potter')"
   ]
  },
  {
   "cell_type": "code",
   "execution_count": 4,
   "id": "395dbfea",
   "metadata": {},
   "outputs": [
    {
     "name": "stdout",
     "output_type": "stream",
     "text": [
      "\n",
      "I have a hamster.\n",
      "My hamster's name is Harry.\n"
     ]
    }
   ],
   "source": [
    "#Positional Arguments\n",
    "def describe_pet(animal_type,pet_name):\n",
    "    \"\"\"Display information about a pet.\"\"\"\n",
    "    print(f\"\\nI have a {animal_type}.\")\n",
    "    print(f\"My {animal_type}'s name is {pet_name.title()}.\")\n",
    "describe_pet('hamster','harry')"
   ]
  },
  {
   "cell_type": "code",
   "execution_count": 5,
   "id": "8cb86ef6",
   "metadata": {},
   "outputs": [
    {
     "name": "stdout",
     "output_type": "stream",
     "text": [
      "\n",
      "I have a hamster.\n",
      "My hamster's name is Harry.\n",
      "\n",
      "I have a dog.\n",
      "My dog's name is Willie.\n"
     ]
    }
   ],
   "source": [
    "#Multiple Function Calls\n",
    "#Positional Arguments\n",
    "#Order matters in Positional arguments\n",
    "def describe_pet(animal_type,pet_name):\n",
    "    \"\"\"Display information about a pet.\"\"\"\n",
    "    print(f\"\\nI have a {animal_type}.\")\n",
    "    print(f\"My {animal_type}'s name is {pet_name.title()}.\")\n",
    "describe_pet('hamster','harry')\n",
    "describe_pet('dog','willie')"
   ]
  },
  {
   "cell_type": "code",
   "execution_count": 6,
   "id": "78cbec88",
   "metadata": {},
   "outputs": [
    {
     "name": "stdout",
     "output_type": "stream",
     "text": [
      "\n",
      "I have a hamster.\n",
      "My hamster's name is Harry.\n"
     ]
    }
   ],
   "source": [
    "#Keyword Arguments - name-value pair that you pass to a function. Dont have to worry about correctly ordering your arguments in the function call\n",
    "def describe_pet(animal_type,pet_name):\n",
    "    \"\"\"Display information about a pet.\"\"\"\n",
    "    print(f\"\\nI have a {animal_type}.\")\n",
    "    print(f\"My {animal_type}'s name is {pet_name.title()}.\")\n",
    "    \n",
    "describe_pet(animal_type='hamster',pet_name='harry')"
   ]
  },
  {
   "cell_type": "code",
   "execution_count": 8,
   "id": "83cf7c3b",
   "metadata": {},
   "outputs": [
    {
     "name": "stdout",
     "output_type": "stream",
     "text": [
      "\n",
      "I have a dog.\n",
      "My dog's name is Willie.\n"
     ]
    }
   ],
   "source": [
    "#Default Values of paramaters\n",
    "#using default values can simplify your function calls and clarify the ways in which your functions are typically used.\n",
    "def describe_pet(pet_name,animal_type='dog'):\n",
    "    \"\"\"Display information about a pet.\"\"\"\n",
    "    print(f\"\\nI have a {animal_type}.\")\n",
    "    print(f\"My {animal_type}'s name is {pet_name.title()}.\")\n",
    "    \n",
    "describe_pet(pet_name = 'Willie')"
   ]
  },
  {
   "cell_type": "code",
   "execution_count": null,
   "id": "5b3e9fdb",
   "metadata": {},
   "outputs": [],
   "source": [
    "#When you use default values, any paramter with a default value needs to be listed after all the parameters \n",
    "#that don't have default values. This allows Python to continue interpreting positional argments correctly\n"
   ]
  },
  {
   "cell_type": "code",
   "execution_count": 9,
   "id": "fccf3f03",
   "metadata": {},
   "outputs": [
    {
     "ename": "TypeError",
     "evalue": "describe_pet() missing 1 required positional argument: 'pet_name'",
     "output_type": "error",
     "traceback": [
      "\u001b[1;31m---------------------------------------------------------------------------\u001b[0m",
      "\u001b[1;31mTypeError\u001b[0m                                 Traceback (most recent call last)",
      "\u001b[1;32m<ipython-input-9-f6c3fd7a7f8e>\u001b[0m in \u001b[0;36m<module>\u001b[1;34m\u001b[0m\n\u001b[0;32m      6\u001b[0m     \u001b[0mprint\u001b[0m\u001b[1;33m(\u001b[0m\u001b[1;34mf\"\\nI have a {animal_type}.\"\u001b[0m\u001b[1;33m)\u001b[0m\u001b[1;33m\u001b[0m\u001b[1;33m\u001b[0m\u001b[0m\n\u001b[0;32m      7\u001b[0m     \u001b[0mprint\u001b[0m\u001b[1;33m(\u001b[0m\u001b[1;34mf\"My {animal_type}'s name is {pet_name.title()}.\"\u001b[0m\u001b[1;33m)\u001b[0m\u001b[1;33m\u001b[0m\u001b[1;33m\u001b[0m\u001b[0m\n\u001b[1;32m----> 8\u001b[1;33m \u001b[0mdescribe_pet\u001b[0m\u001b[1;33m(\u001b[0m\u001b[1;33m)\u001b[0m\u001b[1;33m\u001b[0m\u001b[1;33m\u001b[0m\u001b[0m\n\u001b[0m",
      "\u001b[1;31mTypeError\u001b[0m: describe_pet() missing 1 required positional argument: 'pet_name'"
     ]
    }
   ],
   "source": [
    "#Avoiding Argument Errors\n",
    "#Unmatched arguments occur when you provide fewer or more arguents than a function needs to work.\n",
    "\n",
    "def describe_pet(pet_name,animal_type='dog'):\n",
    "    \"\"\"Display information about a pet.\"\"\"\n",
    "    print(f\"\\nI have a {animal_type}.\")\n",
    "    print(f\"My {animal_type}'s name is {pet_name.title()}.\")\n",
    "describe_pet()"
   ]
  },
  {
   "cell_type": "code",
   "execution_count": 13,
   "id": "446129b1",
   "metadata": {},
   "outputs": [
    {
     "name": "stdout",
     "output_type": "stream",
     "text": [
      "I wish that Kevin Ung was a musician\n"
     ]
    }
   ],
   "source": [
    "#Return simple Values\n",
    "def get_formatted_name(first_name,last_name):\n",
    "    \"\"\"Return a full name, neatly formatted.\"\"\"\n",
    "    full_name=f\"{first_name} {last_name}\"\n",
    "    return full_name.title()\n",
    "musician = get_formatted_name(first_name='kevin',last_name='ung')\n",
    "print(f\"I wish that {musician} was a musician\")"
   ]
  },
  {
   "cell_type": "code",
   "execution_count": 15,
   "id": "fa2c58f6",
   "metadata": {},
   "outputs": [
    {
     "name": "stdout",
     "output_type": "stream",
     "text": [
      "John Lee Hooker\n"
     ]
    }
   ],
   "source": [
    "#Making an Argument Optional\n",
    "#To make the middle name option, we can give that parameter an empty default value and move it to the back\n",
    "def get_formatted_name(first_name,middle_name,last_name):\n",
    "    \"\"\"Return a full name, neatly formatted.\"\"\"\n",
    "    full_name = f\"{first_name} {middle_name} {last_name}\"\n",
    "    return full_name.title()\n",
    "musician= get_formatted_name('john','lee','hooker')\n",
    "print(musician)"
   ]
  },
  {
   "cell_type": "code",
   "execution_count": 17,
   "id": "3ab2cb48",
   "metadata": {},
   "outputs": [
    {
     "name": "stdout",
     "output_type": "stream",
     "text": [
      "John Hooker\n"
     ]
    }
   ],
   "source": [
    "#Making an Argument Optional\n",
    "#To make the middle name option, we can give that parameter an empty default value and move it to the back\n",
    "def get_formatted_name(first_name,last_name,middle_name=''):\n",
    "    \"\"\"Return a full name, neatly formatted.\"\"\"\n",
    "    if middle_name:\n",
    "        full_name = f\"{first_name} {middle_name} {last_name}\"\n",
    "    else:\n",
    "        full_name=f\"{first_name} {last_name}\"\n",
    "    return full_name.title()\n",
    "musician= get_formatted_name('john','hooker')\n",
    "print(musician)"
   ]
  },
  {
   "cell_type": "code",
   "execution_count": 1,
   "id": "18a05bf4",
   "metadata": {},
   "outputs": [
    {
     "name": "stdout",
     "output_type": "stream",
     "text": [
      "{'first': 'jimi', 'last': 'hendrix'}\n"
     ]
    }
   ],
   "source": [
    "#Returning a Dictionary\n",
    "def build_person(first_name,last_name):\n",
    "    \"\"\"Return a dictionary of information about a person\"\"\"\n",
    "    person = {'first': first_name, 'last':last_name}\n",
    "    return person\n",
    "musician=build_person('jimi','hendrix')\n",
    "print(musician)"
   ]
  },
  {
   "cell_type": "code",
   "execution_count": 2,
   "id": "b5b46227",
   "metadata": {},
   "outputs": [
    {
     "name": "stdout",
     "output_type": "stream",
     "text": [
      "{'first': 'jimi', 'last': 'hendrix', 'age': 27}\n"
     ]
    }
   ],
   "source": [
    "#Returning a Dictionary\n",
    "def build_person(first_name,last_name,age=None):\n",
    "    \"\"\"Return a dictionary of information about a person\"\"\"\n",
    "    person = {'first': first_name, 'last':last_name}\n",
    "    if age:\n",
    "        person['age']=age\n",
    "    return person\n",
    "musician=build_person('jimi','hendrix',27)\n",
    "print(musician)"
   ]
  },
  {
   "cell_type": "code",
   "execution_count": 7,
   "id": "f31ac93b",
   "metadata": {},
   "outputs": [],
   "source": [
    "#Using a Function with a while Loop\n",
    "prompt = \"Please tell me your name:\"\n",
    "prompt += \"(enter 'q' at any time to quit)\"\n",
    "def test(first_name, last_name):\n",
    "    while input(prompt)!='q':\n",
    "        return \n",
    "        print(f\"First name: {first_name}\")\n",
    "        print(f\"Lastname: {last_name}\")\n",
    "        print(f\"\\nHello, {fist_name} {last_name}\")\\\n",
    "        "
   ]
  },
  {
   "cell_type": "code",
   "execution_count": 13,
   "id": "c0f27b6c",
   "metadata": {},
   "outputs": [
    {
     "name": "stdout",
     "output_type": "stream",
     "text": [
      "\n",
      "Please tell me your name:\n",
      "(enter 'q'at any time to quit)\n",
      "First name: Kevin\n",
      "Last name: Ung\n",
      "Hello, Kevin Ung!\n",
      "\n",
      "Please tell me your name:\n",
      "(enter 'q'at any time to quit)\n",
      "First name: q\n"
     ]
    }
   ],
   "source": [
    "def get_formatted_name(first_name,last_name):\n",
    "    \"\"\"Return a full name, neatly formatted.\"\"\"\n",
    "    full_name = f\"{first_name} {last_name}\"\n",
    "    return full_name.title()\n",
    "while True:\n",
    "    print(\"\\nPlease tell me your name:\")\n",
    "    print(\"(enter 'q'at any time to quit)\")\n",
    "    \n",
    "    f_name = input(\"First name: \")\n",
    "    if f_name == 'q':\n",
    "        break \n",
    "    l_name= input(\"Last name: \")\n",
    "    if l_name == 'q':\n",
    "        break\n",
    "    \n",
    "    formatted_name = get_formatted_name(f_name,l_name)\n",
    "    print(f\"Hello, {formatted_name}!\")\n",
    "    "
   ]
  },
  {
   "cell_type": "code",
   "execution_count": 18,
   "id": "04b7dd99",
   "metadata": {},
   "outputs": [
    {
     "name": "stdout",
     "output_type": "stream",
     "text": [
      "Where are you from? \n",
      "To end this, just type 'q'\n",
      "What city are you from? Virginia Beach\n",
      "What country is that in?United States\n",
      "Where are you from? \n",
      "To end this, just type 'q'\n",
      "What city are you from? q\n",
      "Q, United States\n"
     ]
    }
   ],
   "source": [
    "def city_country(city,country):\n",
    "    citycountry= f\"{city}, {country}\"\n",
    "    return citycountry.title()\n",
    "while True:\n",
    "    print(\"Where are you from? \")\n",
    "    print(\"To end this, just type 'q'\")\n",
    "    cities = input(\"What city are you from? \")\n",
    "    if cities =='q':\n",
    "        break\n",
    "    countries= input(\"What country is that in?\")\n",
    "    if countries == 'q':\n",
    "        break\n",
    "\n",
    "test = city_country(cities,countries)\n",
    "print(test)"
   ]
  },
  {
   "cell_type": "code",
   "execution_count": 20,
   "id": "0f37b1da",
   "metadata": {},
   "outputs": [
    {
     "name": "stdout",
     "output_type": "stream",
     "text": [
      "Hello, Hannah!\n",
      "Hello, Ty!\n",
      "Hello, Margot!\n"
     ]
    }
   ],
   "source": [
    "#Passing a List\n",
    "def greet_users(names):\n",
    "    \"\"\"Print a simple greeing to each user in the list.\"\"\"\n",
    "    for name in names:\n",
    "        msg = f\"Hello, {name.title()}!\"\n",
    "        print(msg)\n",
    "usernames= ['hannah','ty','margot']\n",
    "greet_users(usernames)"
   ]
  },
  {
   "cell_type": "code",
   "execution_count": 30,
   "id": "015dda77",
   "metadata": {
    "scrolled": true
   },
   "outputs": [
    {
     "name": "stdout",
     "output_type": "stream",
     "text": [
      "Printing model: dodecahedron\n",
      "Printing model: robot pendant\n",
      "Printing model: phone case\n",
      "\n",
      "The following models have been printed:\n",
      "dodecahedron\n",
      "robot pendant\n",
      "phone case\n"
     ]
    }
   ],
   "source": [
    "#Modifying a list in a function\n",
    "#Start with some designs that need to be printed\n",
    "\n",
    "def print_models(unprinted_designs, completed_models):\n",
    "#Siulate printing each design, until none are left.\n",
    "#Move each design to completed_models after printing.\n",
    "    while unprinted_designs:\n",
    "        current_design = unprinted_designs.pop()\n",
    "        print(f\"Printing model: {current_design}\")\n",
    "        completed_models.append(current_design)\n",
    "\n",
    "     \n",
    "def show_completed_models(completed_models):\n",
    "#Display all completed models.\n",
    "    print(\"\\nThe following models have been printed:\")\n",
    "    for completed_model in completed_models:\n",
    "        print(completed_model)\n",
    "    \n",
    "unprinted_designs = ['phone case','robot pendant','dodecahedron']\n",
    "completed_models=[]\n",
    "print_models(unprinted_designs,completed_models)\n",
    "show_completed_models(completed_models)"
   ]
  },
  {
   "cell_type": "code",
   "execution_count": 32,
   "id": "f8b19d12",
   "metadata": {},
   "outputs": [
    {
     "name": "stdout",
     "output_type": "stream",
     "text": [
      "<function print_models at 0x000001C4EDB9C160>\n"
     ]
    }
   ],
   "source": [
    "#Preventing a Function from Modifying a list\n",
    "print_models(unprinted_designs[:],completed_models)\n",
    "print(print_models)"
   ]
  },
  {
   "cell_type": "code",
   "execution_count": 34,
   "id": "6282ff40",
   "metadata": {},
   "outputs": [
    {
     "name": "stdout",
     "output_type": "stream",
     "text": [
      "('pepperoni',)\n",
      "\n",
      "Making a pizza with the following toppings:\n",
      "pepperoni\n",
      "('mushrooms', 'green peppers', 'extra cheese')\n",
      "\n",
      "Making a pizza with the following toppings:\n",
      "mushrooms\n",
      "green peppers\n",
      "extra cheese\n"
     ]
    }
   ],
   "source": [
    "#Passing an Arbitrary Number of Arguments\n",
    "def make_pizza(*toppings): #the asterisk allows this paramater to accept infinite number of arguments\n",
    "    \"\"\"Print the list of toppings that have been requests.\"\"\"\n",
    "    print(toppings)\n",
    "    print('\\nMaking a pizza with the following toppings:')\n",
    "    for topping in toppings:\n",
    "        print(f\"{topping}\")\n",
    "make_pizza('pepperoni')\n",
    "make_pizza('mushrooms','green peppers','extra cheese')"
   ]
  },
  {
   "cell_type": "code",
   "execution_count": 38,
   "id": "ce2cc679",
   "metadata": {},
   "outputs": [
    {
     "name": "stdout",
     "output_type": "stream",
     "text": [
      "\n",
      "Making a 16-inch pizza with the following toppings:\n",
      "pepperoni\n",
      "\n",
      "Making a 12-inch pizza with the following toppings:\n",
      "mushrooms\n",
      "green peppers\n",
      "extra cheese\n"
     ]
    }
   ],
   "source": [
    "#Mising Positional and Arbitrary Arguments\n",
    "#The parameter that accepts an arbitrary number of arguments must be places last in the function definition\n",
    "def make_pizza(size,*toppings): #the asterisk allows this paramater to accept infinite number of arguments\n",
    "    \"\"\"Print the list of toppings that have been requests.\"\"\"\n",
    "    print(f\"\\nMaking a {size}-inch pizza with the following toppings:\")\n",
    "    for topping in toppings:\n",
    "        print(f\"{topping}\")\n",
    "make_pizza(16,'pepperoni')\n",
    "make_pizza(12,'mushrooms','green peppers','extra cheese')\n",
    "\n",
    "#*args means arbitrary arguments"
   ]
  },
  {
   "cell_type": "code",
   "execution_count": 43,
   "id": "afb892be",
   "metadata": {},
   "outputs": [
    {
     "name": "stdout",
     "output_type": "stream",
     "text": [
      "{'location': 'princeton', 'field': 'physics', 'first': 'albert', 'last': 'einstein'}\n"
     ]
    }
   ],
   "source": [
    "#Using Arbitrary Keyword Arguments\n",
    "def build_profile(first,last, **user_info): #The double asterisk creates an empty list of name:value pairs. \n",
    "    \"\"\"Build a didctionary containing everything we know about a user.\"\"\"\n",
    "    user_info['first']= first\n",
    "    user_info['last']=last\n",
    "    return user_info\n",
    "user_profile=build_profile('albert','einstein',location='princeton',field='physics')\n",
    "print(user_profile)\n",
    "\n",
    "#**kwargs means key word arbitrary arguments"
   ]
  },
  {
   "cell_type": "code",
   "execution_count": null,
   "id": "08a7cb73",
   "metadata": {},
   "outputs": [],
   "source": [
    "#Storing your functions in modules\n",
    "#An import statement tells Python to make the code in a module available in the currently running program file"
   ]
  },
  {
   "cell_type": "code",
   "execution_count": 44,
   "id": "731b673a",
   "metadata": {},
   "outputs": [
    {
     "ename": "ModuleNotFoundError",
     "evalue": "No module named 'pizza'",
     "output_type": "error",
     "traceback": [
      "\u001b[1;31m---------------------------------------------------------------------------\u001b[0m",
      "\u001b[1;31mModuleNotFoundError\u001b[0m                       Traceback (most recent call last)",
      "\u001b[1;32m<ipython-input-44-b9c25aaa3c1d>\u001b[0m in \u001b[0;36m<module>\u001b[1;34m\u001b[0m\n\u001b[0;32m      1\u001b[0m \u001b[1;31m#Importing an Entire Module\u001b[0m\u001b[1;33m\u001b[0m\u001b[1;33m\u001b[0m\u001b[1;33m\u001b[0m\u001b[0m\n\u001b[1;32m----> 2\u001b[1;33m \u001b[1;32mimport\u001b[0m \u001b[0mpizza\u001b[0m\u001b[1;33m\u001b[0m\u001b[1;33m\u001b[0m\u001b[0m\n\u001b[0m\u001b[0;32m      3\u001b[0m \u001b[0mpizza\u001b[0m\u001b[1;33m.\u001b[0m\u001b[0mmake_pizza\u001b[0m\u001b[1;33m(\u001b[0m\u001b[1;36m16\u001b[0m\u001b[1;33m,\u001b[0m \u001b[1;34m'pepperoni'\u001b[0m\u001b[1;33m)\u001b[0m\u001b[1;33m\u001b[0m\u001b[1;33m\u001b[0m\u001b[0m\n\u001b[0;32m      4\u001b[0m \u001b[0mpizza\u001b[0m\u001b[1;33m.\u001b[0m\u001b[0mmake_pizza\u001b[0m\u001b[1;33m(\u001b[0m\u001b[1;36m12\u001b[0m\u001b[1;33m,\u001b[0m\u001b[1;34m'mushrooms'\u001b[0m\u001b[1;33m,\u001b[0m\u001b[1;34m'green peppers'\u001b[0m\u001b[1;33m,\u001b[0m\u001b[1;34m'extra cheese'\u001b[0m\u001b[1;33m)\u001b[0m\u001b[1;33m\u001b[0m\u001b[1;33m\u001b[0m\u001b[0m\n",
      "\u001b[1;31mModuleNotFoundError\u001b[0m: No module named 'pizza'"
     ]
    }
   ],
   "source": [
    "#Importing an Entire Module\n",
    "import pizza #supposed to save the .py file in the same location that you are creating this file\n",
    "pizza.make_pizza(16, 'pepperoni')\n",
    "pizza.make_pizza(12,'mushrooms','green peppers','extra cheese')"
   ]
  },
  {
   "cell_type": "code",
   "execution_count": null,
   "id": "3b19d8ad",
   "metadata": {},
   "outputs": [],
   "source": [
    "#if you import the whole module, you get access to all of the functions in that module"
   ]
  },
  {
   "cell_type": "code",
   "execution_count": null,
   "id": "4db54cb5",
   "metadata": {},
   "outputs": [],
   "source": [
    "#Importing Specific Functions\n",
    "from module_name import function_name_0,function_name_1"
   ]
  },
  {
   "cell_type": "code",
   "execution_count": null,
   "id": "b7e4d31e",
   "metadata": {},
   "outputs": [],
   "source": [
    "#Using as to give a fucntion an alias\n",
    "from pizza iport make_pizza as mp\n",
    "mp(16,'pepperoni')"
   ]
  },
  {
   "cell_type": "code",
   "execution_count": null,
   "id": "2656cc60",
   "metadata": {},
   "outputs": [],
   "source": [
    "#Importing all functions in a module\n",
    "from pizza import * \n",
    "#The asterisk lets python know you want all the functions\n",
    "#this is dumb because sometimes the modules you are importing will have the same name as your functions in your program"
   ]
  },
  {
   "cell_type": "code",
   "execution_count": null,
   "id": "4b50c021",
   "metadata": {},
   "outputs": [],
   "source": [
    "Chapter 9\n",
    "#Making an object from a class is called instantiation"
   ]
  },
  {
   "cell_type": "code",
   "execution_count": 45,
   "id": "58a5605b",
   "metadata": {},
   "outputs": [],
   "source": [
    "#Creating the Dog Class\n",
    "class Dog: #Capitalized letters are names of classes\n",
    "    \"\"\"A simple attempt to model a dog\"\"\"\n",
    "    def __init__(self,name,age):\n",
    "        \"\"\"Initialize name and age attributes.\"\"\"\n",
    "        \"\"\"\"\"\"\n",
    "        self.name=name\n",
    "        self.age=age\n",
    "    def sit(self):\n",
    "        \"\"\"Simulate a dog sitting in respose to a command.\"\"\"\n",
    "        print(f\"{self.name} is now sitting.\")\n",
    "        \n",
    "    def roll_over(self):\n",
    "        \"\"\"Simulate rolling over in response to a command.\"\"\"\n",
    "        print(f\"{self.name} rolled over!\")\n",
    "        \n",
    "# a function that is part of a class is called a method. Method and function is the same thing\n",
    "#Think of a class a set a set of instructions for how to make an instance"
   ]
  },
  {
   "cell_type": "code",
   "execution_count": 49,
   "id": "33ea628d",
   "metadata": {},
   "outputs": [
    {
     "name": "stdout",
     "output_type": "stream",
     "text": [
      "My dog's name is Willie.\n",
      "My dog is 6 years old.\n"
     ]
    }
   ],
   "source": [
    "#Making an Instance from a Class\n",
    "my_dog= Dog('Willie',6)\n",
    "print(f\"My dog's name is {my_dog.name}.\")\n",
    "print(f\"My dog is {my_dog.age} years old.\")"
   ]
  },
  {
   "cell_type": "code",
   "execution_count": 51,
   "id": "3822f4b8",
   "metadata": {},
   "outputs": [
    {
     "data": {
      "text/plain": [
       "6"
      ]
     },
     "execution_count": 51,
     "metadata": {},
     "output_type": "execute_result"
    }
   ],
   "source": [
    "#Accessing Atrributes\n",
    "my_dog.name\n",
    "my_dog.age"
   ]
  },
  {
   "cell_type": "code",
   "execution_count": 52,
   "id": "19b4a0a7",
   "metadata": {},
   "outputs": [
    {
     "name": "stdout",
     "output_type": "stream",
     "text": [
      "Willie is now sitting.\n",
      "Willie rolled over!\n"
     ]
    }
   ],
   "source": [
    "#Calling Methods\n",
    "my_dog.sit()\n",
    "my_dog.roll_over()"
   ]
  },
  {
   "cell_type": "code",
   "execution_count": 57,
   "id": "a5799122",
   "metadata": {},
   "outputs": [
    {
     "name": "stdout",
     "output_type": "stream",
     "text": [
      "My dog's name is Willie.\n",
      "My dog is 6 years old.\n",
      "Willie is now sitting.\n",
      "\n",
      "Your dog's name is Lucy.\n",
      "Your dog is 3 years old.\n",
      "Lucy is now sitting.\n"
     ]
    }
   ],
   "source": [
    "#Creating multiple instances\n",
    "my_dog=Dog('Willie',6)\n",
    "your_dog=Dog('Lucy',3)\n",
    "print(f\"My dog's name is {my_dog.name}.\")\n",
    "print(f\"My dog is {my_dog.age} years old.\")\n",
    "my_dog.sit()\n",
    "\n",
    "print(f\"\\nYour dog's name is {your_dog.name}.\")\n",
    "print(f\"Your dog is {your_dog.age} years old.\")\n",
    "your_dog.sit()"
   ]
  },
  {
   "cell_type": "code",
   "execution_count": 60,
   "id": "523b257f",
   "metadata": {},
   "outputs": [
    {
     "data": {
      "text/plain": [
       "'2006 Lexus Is350'"
      ]
     },
     "execution_count": 60,
     "metadata": {},
     "output_type": "execute_result"
    }
   ],
   "source": [
    "#Working with Classes and Instances\n",
    "#The Car Class\n",
    "class Car:\n",
    "    \"\"\"A simple attempt to  represent a car\"\"\"\n",
    "    def __init__(self,make,model,year):\n",
    "        self.make= make\n",
    "        self. model=model\n",
    "        self.year = year\n",
    "    def get_description_name(self):\n",
    "        long_name= f\"{self.year} {self.make} {self.model}\"\n",
    "        return long_name.title()\n",
    "my_new_car=Car('Lexus','IS350','2006')\n",
    "my_new_car.get_description_name()"
   ]
  },
  {
   "cell_type": "code",
   "execution_count": 66,
   "id": "1b089986",
   "metadata": {},
   "outputs": [
    {
     "name": "stdout",
     "output_type": "stream",
     "text": [
      "2006 Lexus Is350\n",
      "This car has 0 miles on it\n"
     ]
    }
   ],
   "source": [
    "#Setting a Default Value for an Attribute\n",
    "class Car:\n",
    "    \"\"\"A simple attempt to  represent a car\"\"\"\n",
    "    def __init__(self,make,model,year):\n",
    "        self.make= make\n",
    "        self. model=model\n",
    "        self.year = year\n",
    "        self.odometer_reading = 0\n",
    "    def get_description_name(self):\n",
    "        long_name= f\"{self.year} {self.make} {self.model}\"\n",
    "        return long_name.title()\n",
    "    def read_odometer(self):\n",
    "        print(f\"This car has {self.odometer_reading} miles on it\")\n",
    "my_new_car=Car('Lexus','IS350','2006')\n",
    "print(my_new_car.get_description_name())\n",
    "my_new_car.read_odometer()"
   ]
  },
  {
   "cell_type": "code",
   "execution_count": 72,
   "id": "f0078922",
   "metadata": {},
   "outputs": [
    {
     "name": "stdout",
     "output_type": "stream",
     "text": [
      "This car has 192000 miles on it\n"
     ]
    }
   ],
   "source": [
    "#Modifying Attribute Values\n",
    "#Modifying an Atrbiute's Value Directly (most simple)\n",
    "my_new_car.odometer_reading=192000\n",
    "my_new_car.read_odometer()"
   ]
  },
  {
   "cell_type": "code",
   "execution_count": 79,
   "id": "4afc6672",
   "metadata": {},
   "outputs": [
    {
     "name": "stdout",
     "output_type": "stream",
     "text": [
      "This car has 0 miles on it\n"
     ]
    }
   ],
   "source": [
    "#Modifying an Attribute's Value through a method\n",
    "class Car:\n",
    "    \"\"\"A simple attempt to  represent a car\"\"\"\n",
    "    def __init__(self,make,model,year):\n",
    "        self.make= make\n",
    "        self. model=model\n",
    "        self.year = year\n",
    "        self.odometer_reading = 0\n",
    "    def get_description_name(self):\n",
    "        long_name= f\"{self.year} {self.make} {self.model}\"\n",
    "        return long_name.title()\n",
    "    def read_odometer(self):\n",
    "        print(f\"This car has {self.odometer_reading} miles on it\")\n",
    "    def update_odometer(self,mileage):\n",
    "        \"\"\"Set the odometer reading tot the given vlaue.\"\"\"\n",
    "        if mileage >= self.odometer_reading:\n",
    "            \n",
    "            self.odometer_reading= mileage\n",
    "        else:\n",
    "            print(\"You can't roll back the odometer!\")\n",
    "my_new_car=Car('Lexus','IS350','2006')\n",
    "my_new_car.update_odometer(0)\n",
    "my_new_car.read_odometer()"
   ]
  },
  {
   "cell_type": "code",
   "execution_count": 11,
   "id": "d097b69d",
   "metadata": {},
   "outputs": [
    {
     "name": "stdout",
     "output_type": "stream",
     "text": [
      "2006 Lexus Is350\n",
      "This car has 23500 miles on it\n",
      "This car has 23600 miles on it\n"
     ]
    }
   ],
   "source": [
    "#Incrementing an Attribute's Value Through a Method\n",
    "class Car:\n",
    "    \"\"\"A simple attempt to  represent a car\"\"\"\n",
    "    def __init__(self,make,model,year):\n",
    "        self.make= make\n",
    "        self. model=model\n",
    "        self.year = year\n",
    "        self.odometer_reading = 0\n",
    "    def get_description_name(self):\n",
    "        long_name= f\"{self.year} {self.make} {self.model}\"\n",
    "        return long_name.title()\n",
    "    def read_odometer(self):\n",
    "        print(f\"This car has {self.odometer_reading} miles on it\")\n",
    "    def update_odometer(self,mileage):\n",
    "        \"\"\"Set the odometer reading tot the given vlaue.\"\"\"\n",
    "        if mileage >= self.odometer_reading:\n",
    "            \n",
    "            self.odometer_reading= mileage\n",
    "        else:\n",
    "            print(\"You can't roll back the odometer!\")\n",
    "    def increment_odometer(self,miles):\n",
    "        \"\"\"Add the given amoun to the odometer reading.\"\"\"\n",
    "        self.odometer_reading += miles\n",
    "        \n",
    "my_new_car=Car('Lexus','IS350','2006')\n",
    "print(my_new_car.get_description_name())\n",
    "my_new_car.update_odometer(23_500)\n",
    "my_new_car.read_odometer()\n",
    "my_new_car.increment_odometer(100)\n",
    "my_new_car.read_odometer()"
   ]
  },
  {
   "cell_type": "code",
   "execution_count": 13,
   "id": "8b30859d",
   "metadata": {},
   "outputs": [
    {
     "name": "stdout",
     "output_type": "stream",
     "text": [
      "2019 Tesla Model S\n"
     ]
    }
   ],
   "source": [
    "#Inhertence - When one class inherits from another, it takes on the attributes and methods of the first class.\n",
    "#The Original class is called the parent and the new class is called the child class. The Childl class can inheret\n",
    "#any or all of the attributes of its parent class\n",
    "\n",
    "#The __init__() Method for a child class\n",
    "\n",
    "class Car:\n",
    "    \"\"\"A simple attempt to  represent a car\"\"\"\n",
    "    def __init__(self,make,model,year):\n",
    "        self.make= make\n",
    "        self. model=model\n",
    "        self.year = year\n",
    "        self.odometer_reading = 0\n",
    "        \n",
    "    def get_description_name(self):\n",
    "        long_name= f\"{self.year} {self.make} {self.model}\"\n",
    "        return long_name.title()\n",
    "    \n",
    "    def read_odometer(self):\n",
    "        print(f\"This car has {self.odometer_reading} miles on it\")\n",
    "        \n",
    "    def update_odometer(self,mileage):\n",
    "        \"\"\"Set the odometer reading tot the given vlaue.\"\"\"\n",
    "        if mileage >= self.odometer_reading:            \n",
    "            self.odometer_reading= mileage\n",
    "        else:\n",
    "            print(\"You can't roll back the odometer!\")\n",
    "            \n",
    "    def increment_odometer(self,miles):\n",
    "        \"\"\"Add the given amoun to the odometer reading.\"\"\"\n",
    "        self.odometer_reading += miles\n",
    "\n",
    "class ElectricCar(Car):\n",
    "    \"\"\"Represent aspects of a car, specific to eletric vehicles.\"\"\"\n",
    "    \n",
    "    def __init__(self,make,model,year):\n",
    "        \"\"\"Initialize attributes of the parent class.\"\"\"\n",
    "        super().__init__(make,model,year) #The super function allows you call methods of the parent. \n",
    "\n",
    "my_tesla=ElectricCar('tesla','model s',2019)\n",
    "print(my_tesla.get_description_name())"
   ]
  },
  {
   "cell_type": "code",
   "execution_count": 16,
   "id": "ad98fb14",
   "metadata": {},
   "outputs": [
    {
     "name": "stdout",
     "output_type": "stream",
     "text": [
      "2019 Tesla Model S\n",
      "This car has a 75-kWh battery.\n"
     ]
    }
   ],
   "source": [
    "#Defining Attributes and Methods for the Child Class\n",
    "class Car:\n",
    "    \"\"\"A simple attempt to  represent a car\"\"\"\n",
    "    def __init__(self,make,model,year):\n",
    "        self.make= make\n",
    "        self. model=model\n",
    "        self.year = year\n",
    "        self.odometer_reading = 0\n",
    "        \n",
    "    def get_description_name(self):\n",
    "        long_name= f\"{self.year} {self.make} {self.model}\"\n",
    "        return long_name.title()\n",
    "    \n",
    "    def read_odometer(self):\n",
    "        print(f\"This car has {self.odometer_reading} miles on it\")\n",
    "        \n",
    "    def update_odometer(self,mileage):\n",
    "        \"\"\"Set the odometer reading tot the given vlaue.\"\"\"\n",
    "        if mileage >= self.odometer_reading:            \n",
    "            self.odometer_reading= mileage\n",
    "        else:\n",
    "            print(\"You can't roll back the odometer!\")\n",
    "            \n",
    "    def increment_odometer(self,miles):\n",
    "        \"\"\"Add the given amoun to the odometer reading.\"\"\"\n",
    "        self.odometer_reading += miles\n",
    "\n",
    "class ElectricCar(Car):\n",
    "    \"\"\"Represent aspects of a car, specific to eletric vehicles.\"\"\"\n",
    "    \n",
    "    def __init__(self,make,model,year):\n",
    "        \"\"\"Initialize attributes of the parent class.\"\"\"\n",
    "        super().__init__(make,model,year) #The super function allows you call methods of the parent. \n",
    "        self.battery_size=75\n",
    "    def describe_battery(self):\n",
    "        \"\"\"Print a statement describing the battery size.\"\"\"\n",
    "        print(f\"This car has a {self.battery_size}-kWh battery.\")\n",
    "        \n",
    "my_tesla=ElectricCar('tesla','model s',2019)\n",
    "print(my_tesla.get_description_name())\n",
    "my_tesla.describe_battery()"
   ]
  },
  {
   "cell_type": "code",
   "execution_count": 20,
   "id": "b486e2ae",
   "metadata": {},
   "outputs": [
    {
     "name": "stdout",
     "output_type": "stream",
     "text": [
      "Hi\n",
      "This car doesn't need a gas tank\n"
     ]
    }
   ],
   "source": [
    "#Overriding Methods from the Parent Class\n",
    "#You can override any method from the parent class that doesn't fit what you're trying to model with the Child class.\n",
    "\n",
    "class Car:\n",
    "    \"\"\"A simple attempt to  represent a car\"\"\"\n",
    "    def __init__(self,make,model,year):\n",
    "        self.make= make\n",
    "        self. model=model\n",
    "        self.year = year\n",
    "        self.odometer_reading = 0\n",
    "        \n",
    "    def get_description_name(self):\n",
    "        long_name= f\"{self.year} {self.make} {self.model}\"\n",
    "        return long_name.title()\n",
    "    \n",
    "    def read_odometer(self):\n",
    "        print(f\"This car has {self.odometer_reading} miles on it\")\n",
    "        \n",
    "    def update_odometer(self,mileage):\n",
    "        \"\"\"Set the odometer reading tot the given vlaue.\"\"\"\n",
    "        if mileage >= self.odometer_reading:            \n",
    "            self.odometer_reading= mileage\n",
    "        else:\n",
    "            print(\"You can't roll back the odometer!\")\n",
    "            \n",
    "    def increment_odometer(self,miles):\n",
    "        \"\"\"Add the given amoun to the odometer reading.\"\"\"\n",
    "        self.odometer_reading += miles\n",
    "        \n",
    "    def fill_gas_tank(self):\n",
    "        print('Hi')\n",
    "        \n",
    "class ElectricCar(Car):\n",
    "    \"\"\"Represent aspects of a car, specific to eletric vehicles.\"\"\"\n",
    "    \n",
    "    def __init__(self,make,model,year):\n",
    "        \"\"\"Initialize attributes of the parent class.\"\"\"\n",
    "        super().__init__(make,model,year) #The super function allows you call methods of the parent. \n",
    "        self.battery_size=75\n",
    "    def describe_battery(self):\n",
    "        \"\"\"Print a statement describing the battery size.\"\"\"\n",
    "        print(f\"This car has a {self.battery_size}-kWh battery.\")\n",
    "    def fill_gas_tank(self):\n",
    "        \"\"\"Overiding the original method from the Car class\"\"\"\n",
    "        print(\"This car doesn't need a gas tank\")\n",
    "\n",
    "        \n",
    "my_tesla=ElectricCar('tesla','model s',2019)\n",
    "my_car=Car('tesla','model s',2019)\n",
    "my_car.fill_gas_tank() #Method from the car class\n",
    "my_tesla.fill_gas_tank() #Overidden method from the electric car class"
   ]
  },
  {
   "cell_type": "code",
   "execution_count": 28,
   "id": "be841b74",
   "metadata": {},
   "outputs": [
    {
     "name": "stdout",
     "output_type": "stream",
     "text": [
      "This car has 75-kWh battery.\n",
      "This car can go about 260 miles on a full charge.\n"
     ]
    }
   ],
   "source": [
    "#Instances as Attributes- When the class is getting too many attributes, try breaking the class into smaller classes\n",
    "class Car:\n",
    "    \"\"\"A simple attempt to  represent a car\"\"\"\n",
    "    def __init__(self,make,model,year):\n",
    "        self.make= make\n",
    "        self. model=model\n",
    "        self.year = year\n",
    "        self.odometer_reading = 0\n",
    "        \n",
    "    def get_description_name(self):\n",
    "        long_name= f\"{self.year} {self.make} {self.model}\"\n",
    "        return long_name.title()\n",
    "    \n",
    "    def read_odometer(self):\n",
    "        print(f\"This car has {self.odometer_reading} miles on it\")\n",
    "        \n",
    "    def update_odometer(self,mileage):\n",
    "        \"\"\"Set the odometer reading tot the given vlaue.\"\"\"\n",
    "        if mileage >= self.odometer_reading:            \n",
    "            self.odometer_reading= mileage\n",
    "        else:\n",
    "            print(\"You can't roll back the odometer!\")\n",
    "            \n",
    "    def increment_odometer(self,miles):\n",
    "        \"\"\"Add the given amoun to the odometer reading.\"\"\"\n",
    "        self.odometer_reading += miles\n",
    "        \n",
    "    def fill_gas_tank(self):\n",
    "        print('Hi')\n",
    "\n",
    "class Battery:\n",
    "    \"\"\"A simple attempt to model a battery for an electric car.\"\"\"\n",
    "    def __init__(self, battery_size=75):\n",
    "        \"\"\"Initialize the battery's attributes.\"\"\"\n",
    "        self.battery_size=battery_size\n",
    "    def describe_battery(self):\n",
    "        \"\"\"Print a statement describing the battery size.\"\"\"\n",
    "        print(f\"This car has {self.battery_size}-kWh battery.\")\n",
    "    def get_range(self):\n",
    "        \"\"\"Print a statemtn about the rangh this battery provides.\"\"\"\n",
    "        if self.battery_size == 75:\n",
    "            range = 260\n",
    "        elif self.battery_size ==100:\n",
    "            range = 315\n",
    "        print(f\"This car can go about {range} miles on a full charge.\")\n",
    "        \n",
    "class ElectricCar(Car):\n",
    "    \"\"\"Represent aspects of a car, specific to eletric vehicles.\"\"\"\n",
    "    \n",
    "    def __init__(self,make,model,year):\n",
    "        \"\"\"Initialize attributes of the parent class.\"\"\"\n",
    "        super().__init__(make,model,year) #The super function allows you call methods of the parent. \n",
    "        self.battery=Battery()\n",
    "   \n",
    "my_tesla=ElectricCar('tesla','model s',2019)\n",
    "my_tesla.battery.describe_battery()\n",
    "my_tesla.battery.get_range()"
   ]
  },
  {
   "cell_type": "code",
   "execution_count": null,
   "id": "24de438b",
   "metadata": {},
   "outputs": [],
   "source": [
    "#Importing Classes\n",
    "from car import Car\n",
    "\n",
    "my_new_car = Car('audi','a4',2019)\n",
    "print(my_new_car.get_description_name())\n"
   ]
  },
  {
   "cell_type": "code",
   "execution_count": 30,
   "id": "4d823f7a",
   "metadata": {},
   "outputs": [
    {
     "name": "stdout",
     "output_type": "stream",
     "text": [
      "2019 Tesla Model S\n",
      "This car has 75-kWh battery.\n",
      "This car can go about 260 miles on a full charge.\n"
     ]
    }
   ],
   "source": [
    "#Storing Multiple Classes in a Module\n",
    "#You can store as manny classes in a module as you want, but each class in the module should be related\n",
    "#Instances as Attributes- When the class is getting too many attributes, try breaking the class into smaller classes\n",
    "from my_electric_car import Car\n",
    "my_tesla=ElectricCar('tesla','model s',2019)\n",
    "print(my_tesla.get_description_name())\n",
    "my_tesla.battery.describe_battery()\n",
    "my_tesla.battery.get_range()"
   ]
  },
  {
   "cell_type": "code",
   "execution_count": 33,
   "id": "8ea329ae",
   "metadata": {},
   "outputs": [
    {
     "name": "stdout",
     "output_type": "stream",
     "text": [
      "2019 Volkswagen Beetle\n",
      "2019 Tesla Roadster\n"
     ]
    }
   ],
   "source": [
    "#Importing Multiple Classes from a Module\n",
    "from my_electric_car import Car,ElectricCar\n",
    "\n",
    "my_beetle=Car('volkswagen','beetle',2019)\n",
    "print(my_beetle.get_description_name())\n",
    "\n",
    "my_tesla=ElectricCar('tesla','roadster',2019)\n",
    "print(my_tesla.get_description_name())"
   ]
  },
  {
   "cell_type": "code",
   "execution_count": 34,
   "id": "da7bea57",
   "metadata": {},
   "outputs": [
    {
     "name": "stdout",
     "output_type": "stream",
     "text": [
      "2019 Volkswagen Beetle\n",
      "2019 Tesla Roadster\n"
     ]
    }
   ],
   "source": [
    "#Importing an Entire Module- You can also import an entire module and then access the classes using dot notation\n",
    "\n",
    "import my_electric_car as mec\n",
    "my_beetle=mec.Car('volkswagen','beetle',2019)\n",
    "print(my_beetle.get_description_name())\n",
    "\n",
    "my_tesla=mec.ElectricCar('tesla','roadster',2019)\n",
    "print(my_tesla.get_description_name())"
   ]
  },
  {
   "cell_type": "code",
   "execution_count": null,
   "id": "7155fa02",
   "metadata": {},
   "outputs": [],
   "source": [
    "#Importing All Classes from a Module (This is dumb btw)\n",
    "from my_electric_car import *"
   ]
  },
  {
   "cell_type": "code",
   "execution_count": 37,
   "id": "51747853",
   "metadata": {},
   "outputs": [
    {
     "name": "stdout",
     "output_type": "stream",
     "text": [
      "michael\n"
     ]
    }
   ],
   "source": [
    "#Python Standard Library - Libraries necessary for most projects\n",
    "from random import randint\n",
    "randint(1,6)\n",
    "\n",
    "from random import choice\n",
    "players= ['charles', 'martina', 'michael', 'florence', 'eli']\n",
    "first_up=choice(players)\n",
    "print(first_up)"
   ]
  },
  {
   "cell_type": "code",
   "execution_count": null,
   "id": "7c910a70",
   "metadata": {},
   "outputs": [],
   "source": [
    "#Styling Classes \n",
    "#Class names should be written in CamelCase (capitlize the first letter of each word and dont use underscores)\n",
    "#Instance and Modules names should be written in lowercase with underscores\n",
    "#Every class should have a docstring that is a brief description \n",
    "#use a blank line between methods in a class\n",
    "# In a module, use 2 blank lines to separate classes"
   ]
  },
  {
   "cell_type": "code",
   "execution_count": null,
   "id": "a7d01666",
   "metadata": {},
   "outputs": [],
   "source": [
    "CHAPTER 10"
   ]
  },
  {
   "cell_type": "code",
   "execution_count": 40,
   "id": "49761b99",
   "metadata": {},
   "outputs": [
    {
     "name": "stdout",
     "output_type": "stream",
     "text": [
      "3.1415926535\n",
      "8979323846\n",
      "2643383279\n"
     ]
    }
   ],
   "source": [
    "#Reading from a File\n",
    "#reading an entire file\n",
    "\n",
    "with open('pi_digits.txt') as file_object: #the open() opens a file in the same location your program is in\n",
    "#with closes the file once acces to it is no longer needed.\n",
    "    contents=file_object.read()\n",
    "print(contents.lstrip())"
   ]
  },
  {
   "cell_type": "code",
   "execution_count": null,
   "id": "7f92a3f7",
   "metadata": {},
   "outputs": [],
   "source": [
    "#File Paths- You have a to provide a direct path of exactly which folder your file is in\n",
    "with open('text_files/filename.txt') as file-object:\n",
    "    #Windows systems use a backlash (\\) instead of a forward slash (/) when displaying file paths, but you can sill use \n",
    "    #forward slashes in your code\n",
    "    #It is better to store your file path to a variable\n",
    "file_path = '/home/ehmatthes/other_files/text_files/filename.txt'\n",
    "with open(file_path) as file_object:\n",
    "    "
   ]
  },
  {
   "cell_type": "code",
   "execution_count": 42,
   "id": "69c5b519",
   "metadata": {},
   "outputs": [
    {
     "name": "stdout",
     "output_type": "stream",
     "text": [
      "3.1415926535\n",
      "8979323846\n",
      "2643383279\n"
     ]
    }
   ],
   "source": [
    "#Reading Line by Line\n",
    "filename ='pi_digits.txt'\n",
    "with open(filename) as file_object:\n",
    "    for line in file_object:\n",
    "        print(line.rstrip())"
   ]
  },
  {
   "cell_type": "code",
   "execution_count": 43,
   "id": "9ca8f5bf",
   "metadata": {},
   "outputs": [
    {
     "name": "stdout",
     "output_type": "stream",
     "text": [
      "3.1415926535\n",
      "8979323846\n",
      "2643383279\n"
     ]
    }
   ],
   "source": [
    "#Making a List of Lines from a File (storing the contents of the file in a list)\n",
    "filename ='pi_digits.txt'\n",
    "with open(filename) as file_object:\n",
    " lines=file_object.readlines()\n",
    "for line in lines:\n",
    "    print(line.rstrip())"
   ]
  },
  {
   "cell_type": "code",
   "execution_count": 49,
   "id": "f3cb30d5",
   "metadata": {},
   "outputs": [
    {
     "name": "stdout",
     "output_type": "stream",
     "text": [
      "3.141592653589793238462643383279\n",
      "32\n"
     ]
    }
   ],
   "source": [
    "#Working with a File's Contents\n",
    "filename = 'pi_digits.txt'\n",
    "with open(filename) as file_object:\n",
    "    lines=file_object.readlines()\n",
    "\n",
    "pi_string=''\n",
    "for line in lines:\n",
    "    pi_string+=line.strip()\n",
    "    \n",
    "print(pi_string)\n",
    "print(len(pi_string))\n",
    "#When python reads from a text file, it interprets all text in the file as a string. If you read in a number and want to\n",
    "#work with that value in a numerical context, you'll have to convert it to an interger using the int() function or conert\n",
    "#it to a float using the float() function"
   ]
  },
  {
   "cell_type": "code",
   "execution_count": 55,
   "id": "3467a829",
   "metadata": {},
   "outputs": [
    {
     "name": "stdout",
     "output_type": "stream",
     "text": [
      "Enter your birthday, in the form mmddyy 080991\n",
      "yes it is\n"
     ]
    }
   ],
   "source": [
    "#Is your birthday contained in pi?\n",
    "filename = 'pi_million_digits.txt'\n",
    "with open(filename) as file_object:\n",
    "    lines=file_object.readlines()\n",
    "pi_strings=''\n",
    "for line in lines:\n",
    "    pi_string+=line.strip()\n",
    "\n",
    "birthday=input(\"Enter your birthday, in the form mmddyy \")\n",
    "if birthday in pi_string:\n",
    "    print(\"yes it is\")\n",
    "else:\n",
    "    print(\"nah\")"
   ]
  },
  {
   "cell_type": "code",
   "execution_count": 56,
   "id": "355e3543",
   "metadata": {},
   "outputs": [],
   "source": [
    "#Writing to a file\n",
    "#Writing to an Empty File\n",
    "filename='programming.txt'\n",
    "\n",
    "with open(filename,'w') as file_object: # the w here tells us to write \n",
    "    file_object.write('I love programming.')\n",
    "    \n",
    "#The 3 modes of the open function are r(read), w(write), a(append),read and write(r+)\n",
    "#Python can only write strings to a text file. If you wan to store numerical data in a text file,\n",
    "#you'll have to convert the data to string format first using the str() function"
   ]
  },
  {
   "cell_type": "code",
   "execution_count": 62,
   "id": "36f4e572",
   "metadata": {},
   "outputs": [],
   "source": [
    "#Writing Multiple Lines\n",
    "filename='programming.txt'\n",
    "\n",
    "with open(filename,'w') as file_object: # the w here tells us to write \n",
    "    file_object.write('I love programming.\\n')\n",
    "    file_object.write(\"I love creating new games.\\n\")"
   ]
  },
  {
   "cell_type": "code",
   "execution_count": 63,
   "id": "474eaf47",
   "metadata": {},
   "outputs": [],
   "source": [
    "#appending to a file\n",
    "filename = 'programming.txt'\n",
    "\n",
    "with open(filename,'a') as file_object:\n",
    "    file_object.write(\"I also love finding meaning in large datasets.\\n\")\n",
    "    file_object.write(\"I love creating apps that can fun in a brwoser.\\n\")"
   ]
  },
  {
   "cell_type": "code",
   "execution_count": 66,
   "id": "2ab43dbc",
   "metadata": {},
   "outputs": [
    {
     "name": "stdout",
     "output_type": "stream",
     "text": [
      "You can't divide by zero!\n"
     ]
    }
   ],
   "source": [
    "#Exceptions-used to manage errors that arise during execution.similar to iferror()\n",
    "#Handling the ZeroDivisionError Exception using try-except blocks\n",
    "\n",
    "try:\n",
    "    print(5/0)\n",
    "except ZeroDivisionError:\n",
    "    print(\"You can't divide by zero!\")"
   ]
  },
  {
   "cell_type": "code",
   "execution_count": null,
   "id": "c4d4b851",
   "metadata": {},
   "outputs": [],
   "source": [
    "#Using Exceptions to Prevent Crashes\n",
    "print(\"Give me two numbers, and I'll dividen them.\")\n",
    "print(\"Enter 'q' to quit.\")\n",
    "\n",
    "while True:\n",
    "    first_number=input(\"\\nFirst number: \")\n",
    "    if first_number=='q'\n",
    "        break\n",
    "    second_number=input(\"\\nSecond_number: \")\n",
    "    if second_number == 'q'\n",
    "        break\n",
    "    answer=int(first_number)/int(second_number)\n",
    "    print(answer)\n",
    "#This does not handle dividing by zero of if the user inputs a letter"
   ]
  },
  {
   "cell_type": "code",
   "execution_count": 72,
   "id": "4eec86e4",
   "metadata": {},
   "outputs": [
    {
     "name": "stdout",
     "output_type": "stream",
     "text": [
      "Give me two numbers, and I'll dividen them.\n",
      "Enter 'q' to quit.\n",
      "\n",
      "First number: q\n"
     ]
    }
   ],
   "source": [
    "#The else Block\n",
    "print(\"Give me two numbers, and I'll dividen them.\")\n",
    "print(\"Enter 'q' to quit.\")\n",
    "\n",
    "while True:\n",
    "    first_number=input(\"\\nFirst number: \")\n",
    "    if first_number=='q':\n",
    "        break\n",
    "    second_number=input(\"\\nSecond_number: \")\n",
    "    if second_number == 'q':\n",
    "        break\n",
    "    try:\n",
    "        answer=int(first_number)/int(second_number)\n",
    "    except ZeroDivisionError:\n",
    "        print(\"You can't divide by zero\")\n",
    "    else:\n",
    "        print(answer)"
   ]
  },
  {
   "cell_type": "code",
   "execution_count": 74,
   "id": "d2af0bf8",
   "metadata": {},
   "outputs": [
    {
     "name": "stdout",
     "output_type": "stream",
     "text": [
      "Sorry the file alice.txt does not exist\n"
     ]
    }
   ],
   "source": [
    "#Handling the FileNotFoundError Exception\n",
    "filename='alice.txt'\n",
    "\n",
    "try:\n",
    "    with open(filename,encoding='utf-8') as f:\n",
    "        contents=f.read()\n",
    "except FileNotFoundError:\n",
    "    print(f\"Sorry the file {filename} does not exist\")"
   ]
  },
  {
   "cell_type": "code",
   "execution_count": 81,
   "id": "edc9b77e",
   "metadata": {},
   "outputs": [
    {
     "name": "stdout",
     "output_type": "stream",
     "text": [
      "The number of words in alice in wonderland.txt is 29594\n"
     ]
    }
   ],
   "source": [
    "#Analyzing Text\n",
    "title ='alice in wonderland'\n",
    "title.split() #split function separates all words in a list\n",
    "\n",
    "filename='alice in wonderland.txt'\n",
    "\n",
    "try:\n",
    "    with open(filename,encoding='utf-8') as f:\n",
    "        contents=f.read()\n",
    "except FileNotFoundError:\n",
    "    print(f\"Sorry the file {filename} does not exist\")\n",
    "else:\n",
    "    #Count the approximate number of words in the file.\n",
    "    words = contents.split()\n",
    "    num_words= len(words)\n",
    "    print(f\"The number of words in {filename} is {num_words}\")"
   ]
  },
  {
   "cell_type": "code",
   "execution_count": 86,
   "id": "628c7c43",
   "metadata": {},
   "outputs": [
    {
     "name": "stdout",
     "output_type": "stream",
     "text": [
      "The number of words in alice in wonderland.txt is 29594\n",
      "Sorry the file siddhartha.txt does not exist\n",
      "Sorry the file moby_dick.txt does not exist\n",
      "Sorry the file little_women.txt does not exist\n"
     ]
    }
   ],
   "source": [
    "#Working with Multiple Files\n",
    "def count_words(filename):\n",
    "    #counts the number of words in the file\n",
    "\n",
    "    try:\n",
    "        with open(filename,encoding='utf-8') as f:\n",
    "            contents=f.read()\n",
    "    except FileNotFoundError:\n",
    "        print(f\"Sorry the file {filename} does not exist\")\n",
    "    else:\n",
    "        #Count the approximate number of words in the file.\n",
    "        words = contents.split()\n",
    "        num_words= len(words)\n",
    "        print(f\"The number of words in {filename} is {num_words}\")\n",
    "\n",
    "\n",
    "filenames= ['alice in wonderland.txt', 'siddhartha.txt','moby_dick.txt','little_women.txt']\n",
    "for filename in filenames:\n",
    "    count_words(filename)"
   ]
  },
  {
   "cell_type": "code",
   "execution_count": 89,
   "id": "06e5fba1",
   "metadata": {},
   "outputs": [
    {
     "name": "stdout",
     "output_type": "stream",
     "text": [
      "The number of words in alice in wonderland.txt is 29594\n"
     ]
    }
   ],
   "source": [
    "#Failing Silently \n",
    "def count_words(filename):\n",
    "    #counts the number of words in the file\n",
    "\n",
    "    try:\n",
    "        with open(filename,encoding='utf-8') as f:\n",
    "            contents=f.read()\n",
    "    except FileNotFoundError:\n",
    "        pass #This tells python to fail silently\n",
    "    else:\n",
    "        #Count the approximate number of words in the file.\n",
    "        words = contents.split()\n",
    "        num_words= len(words)\n",
    "        print(f\"The number of words in {filename} is {num_words}\")\n",
    "filenames= ['alice in wonderland.txt', 'siddhartha.txt','moby_dick.txt','little_women.txt']\n",
    "for filename in filenames:\n",
    "    count_words(filename)"
   ]
  },
  {
   "cell_type": "code",
   "execution_count": null,
   "id": "d2455749",
   "metadata": {},
   "outputs": [],
   "source": [
    "#Deciding Which Errors to Report\n",
    "If your user is expecting to see something, then do no fail silently otherwise do so"
   ]
  },
  {
   "cell_type": "code",
   "execution_count": 90,
   "id": "821925fa",
   "metadata": {},
   "outputs": [],
   "source": [
    "#Storing Data\n",
    "#Using json.dump() and json.load()\n",
    "#json.dump has 2 arguments : piece of data to store and a file object i can use to store the data\n",
    "import json\n",
    "numbers=[2,3,5,7,11,13]\n",
    "filename='numbers.json'\n",
    "with open(filename,'w') as f:\n",
    "    json.dump(numbers,f)"
   ]
  },
  {
   "cell_type": "code",
   "execution_count": 91,
   "id": "010e1cf8",
   "metadata": {},
   "outputs": [
    {
     "name": "stdout",
     "output_type": "stream",
     "text": [
      "[2, 3, 5, 7, 11, 13]\n"
     ]
    }
   ],
   "source": [
    "import json \n",
    "filename ='numbers.json'\n",
    "with open(filename) as f:\n",
    "    numbers=json.load(f)\n",
    "print(numbers)"
   ]
  },
  {
   "cell_type": "code",
   "execution_count": 92,
   "id": "1b0475e6",
   "metadata": {},
   "outputs": [
    {
     "name": "stdout",
     "output_type": "stream",
     "text": [
      "What is your name? Kevin Ung\n",
      "We'll remember you when you come back, Kevin Ung!\n"
     ]
    }
   ],
   "source": [
    "#Saving and Reading User-Generated Data\n",
    "import json\n",
    "username=input(\"What is your name? \")\n",
    "\n",
    "filename='username.json'\n",
    "with open(filename,'w') as f:\n",
    "    json.dump(username,f)\n",
    "    print(f\"We'll remember you when you come back, {username}!\")"
   ]
  },
  {
   "cell_type": "code",
   "execution_count": 97,
   "id": "ea07f691",
   "metadata": {},
   "outputs": [
    {
     "name": "stdout",
     "output_type": "stream",
     "text": [
      "Welcome back Kevin Ung!\n"
     ]
    }
   ],
   "source": [
    "import json \n",
    "\n",
    "#Load the username, if it has been stored previously.\n",
    "#Otherwise, prompt for the username and store it.\n",
    "\n",
    "filename='username.json'\n",
    "try:\n",
    "    with open(filename) as f:\n",
    "        username=json.load(f)\n",
    "except FileNotFoundError:\n",
    "    username=input(\"What is your name? \")\n",
    "    with open(filename,'w') as f:\n",
    "        json.dump(username,f)\n",
    "        print(f\"We'll remember you when you come back, {username}!\")\n",
    "else:\n",
    "    print(f\"Welcome back {username}!\")"
   ]
  },
  {
   "cell_type": "code",
   "execution_count": 98,
   "id": "37349d4d",
   "metadata": {},
   "outputs": [
    {
     "name": "stdout",
     "output_type": "stream",
     "text": [
      "Welcome back Kevin Ung!\n"
     ]
    }
   ],
   "source": [
    "#Refactoring - Process of breaking up large code into a series of functions that have specific jobs\n",
    "import json\n",
    "\n",
    "def greet_user():\n",
    "    filename='username.json'\n",
    "    try:\n",
    "        with open(filename) as f:\n",
    "            username=json.load(f)\n",
    "    except FileNotFoundError:\n",
    "        username=input(\"What is your name? \")\n",
    "        with open(filename,'w') as f:\n",
    "            json.dump(username,f)\n",
    "            print(f\"We'll remember you when you come back, {username}!\")\n",
    "    else:\n",
    "        print(f\"Welcome back {username}!\")\n",
    "greet_user()"
   ]
  },
  {
   "cell_type": "code",
   "execution_count": 103,
   "id": "e7583d6c",
   "metadata": {},
   "outputs": [
    {
     "name": "stdout",
     "output_type": "stream",
     "text": [
      "Welcome back, Kevin Ung!\n"
     ]
    }
   ],
   "source": [
    "import json \n",
    "def get_stored_username():\n",
    "    \"\"\"Get stored username if available.\"\"\"\n",
    "    filename ='username.json'\n",
    "    try:\n",
    "        with open(filename) as f:\n",
    "            username=json.load(f)\n",
    "    except FileNotFoundError:\n",
    "        return None\n",
    "    else:\n",
    "        return username\n",
    "\n",
    "def greet_user():\n",
    "    \"\"\"Greet the user by name.\"\"\"\n",
    "    username=get_stored_username()\n",
    "    if username:\n",
    "        print(f\"Welcome back, {username}!\")\n",
    "    else:\n",
    "        username=input(\"What is your name?\")\n",
    "        filename='username.json'\n",
    "        with open(filename,'w') as f:\n",
    "            json.dump(username,f)\n",
    "            print(f\"We'll remember you when you come back, {username}!\")\n",
    "greet_user()"
   ]
  },
  {
   "cell_type": "code",
   "execution_count": null,
   "id": "0caa9d5e",
   "metadata": {},
   "outputs": [],
   "source": [
    "Chapter 11"
   ]
  },
  {
   "cell_type": "code",
   "execution_count": 104,
   "id": "204bd547",
   "metadata": {},
   "outputs": [
    {
     "name": "stdout",
     "output_type": "stream",
     "text": [
      "Enter 'q' at any time to quit.\n",
      "\n",
      "Please give me a first name: kevin\n",
      "Please give me a last name: ung\n",
      "\tNeatly formatted name: Kevin Ung.\n",
      "\n",
      "Please give me a first name: q\n"
     ]
    }
   ],
   "source": [
    "#Testing a Function \n",
    "def get_formatted_name(first,last):\n",
    "    full_name =f\"{first} {last}\"\n",
    "    return full_name.title()\n",
    "\n",
    "print(\"Enter 'q' at any time to quit.\")\n",
    "while True:\n",
    "    first =input(\"\\nPlease give me a first name: \")\n",
    "    if first == 'q':\n",
    "        break\n",
    "    last=input(\"Please give me a last name: \")\n",
    "    if last =='q':\n",
    "        break\n",
    "    \n",
    "    formatted_name= get_formatted_name(first,last)\n",
    "    print(f\"\\tNeatly formatted name: {formatted_name}.\")"
   ]
  },
  {
   "cell_type": "code",
   "execution_count": null,
   "id": "90113a9d",
   "metadata": {},
   "outputs": [],
   "source": [
    "#Unit Tests and Test Cases\n",
    "#unit test verifies that one specific aspect of a function's behavior is correct. \n",
    "#test case is a collection of unit tests that together prove a function beahves correctlly.\n",
    "#full coverage includes a full range of unit tests covering all the possible ways you can use a function"
   ]
  },
  {
   "cell_type": "code",
   "execution_count": 15,
   "id": "02ae3e6d",
   "metadata": {},
   "outputs": [
    {
     "name": "stderr",
     "output_type": "stream",
     "text": [
      "E\n",
      "======================================================================\n",
      "ERROR: C:\\Users\\Kevin Ung\\AppData\\Roaming\\jupyter\\runtime\\kernel-a924a2e4-256b-452b-a3d1-71bd70069629 (unittest.loader._FailedTest)\n",
      "----------------------------------------------------------------------\n",
      "AttributeError: module '__main__' has no attribute 'C:\\Users\\Kevin Ung\\AppData\\Roaming\\jupyter\\runtime\\kernel-a924a2e4-256b-452b-a3d1-71bd70069629'\n",
      "\n",
      "----------------------------------------------------------------------\n",
      "Ran 1 test in 0.003s\n",
      "\n",
      "FAILED (errors=1)\n"
     ]
    },
    {
     "ename": "SystemExit",
     "evalue": "True",
     "output_type": "error",
     "traceback": [
      "An exception has occurred, use %tb to see the full traceback.\n",
      "\u001b[1;31mSystemExit\u001b[0m\u001b[1;31m:\u001b[0m True\n"
     ]
    },
    {
     "name": "stderr",
     "output_type": "stream",
     "text": [
      "C:\\ProgramData\\Anaconda3\\lib\\site-packages\\IPython\\core\\interactiveshell.py:3445: UserWarning: To exit: use 'exit', 'quit', or Ctrl-D.\n",
      "  warn(\"To exit: use 'exit', 'quit', or Ctrl-D.\", stacklevel=1)\n"
     ]
    }
   ],
   "source": [
    "#A Passing Test - Create a class that inherits from unittest.testcase and write a series of methods to test different \n",
    "#aspects of the function\n",
    "import unittest\n",
    "\n",
    "\n",
    "def get_formatted_name(first,last):\n",
    "    full_name =f\"{first} {last}\"\n",
    "    return full_name.title()\n",
    "get_formatted_name('janis','joplin')\n",
    "\n",
    "class NamesTestCase(unittest.TestCase):\n",
    "    \"\"\"Tests for 'name_function.py'\"\"\"\n",
    "    \n",
    "    def test_first_last_name(self):\n",
    "        \"\"\"Do names like 'Janis Joplin' work ?\"\"\"\n",
    "        formatted_name=get_formatted_name('janis','joplin')\n",
    "        self.assertEqual(formmated_name,'Janis Joplin')\n",
    "        \n",
    "if __name__== '__main__':\n",
    "    unittest.main()"
   ]
  },
  {
   "cell_type": "code",
   "execution_count": null,
   "id": "58d6cedb",
   "metadata": {},
   "outputs": [],
   "source": [
    "#Responding to a failed test\n",
    "#When a test fails, dont change the test. Fix the code that caused the fail"
   ]
  },
  {
   "cell_type": "code",
   "execution_count": 20,
   "id": "3ddcef4d",
   "metadata": {},
   "outputs": [
    {
     "name": "stderr",
     "output_type": "stream",
     "text": [
      "E\n",
      "======================================================================\n",
      "ERROR: C:\\Users\\Kevin Ung\\AppData\\Roaming\\jupyter\\runtime\\kernel-a924a2e4-256b-452b-a3d1-71bd70069629 (unittest.loader._FailedTest)\n",
      "----------------------------------------------------------------------\n",
      "AttributeError: module '__main__' has no attribute 'C:\\Users\\Kevin Ung\\AppData\\Roaming\\jupyter\\runtime\\kernel-a924a2e4-256b-452b-a3d1-71bd70069629'\n",
      "\n",
      "----------------------------------------------------------------------\n",
      "Ran 1 test in 0.001s\n",
      "\n",
      "FAILED (errors=1)\n"
     ]
    },
    {
     "ename": "SystemExit",
     "evalue": "True",
     "output_type": "error",
     "traceback": [
      "An exception has occurred, use %tb to see the full traceback.\n",
      "\u001b[1;31mSystemExit\u001b[0m\u001b[1;31m:\u001b[0m True\n"
     ]
    },
    {
     "name": "stderr",
     "output_type": "stream",
     "text": [
      "C:\\ProgramData\\Anaconda3\\lib\\site-packages\\IPython\\core\\interactiveshell.py:3445: UserWarning: To exit: use 'exit', 'quit', or Ctrl-D.\n",
      "  warn(\"To exit: use 'exit', 'quit', or Ctrl-D.\", stacklevel=1)\n"
     ]
    }
   ],
   "source": [
    "#Adding new tests\n",
    "import unittest\n",
    "\n",
    "\n",
    "def get_formatted_name(first,last,middle =''):\n",
    "    if middle:\n",
    "        full_name =f\"{first} {middle} {last}\"\n",
    "    else:\n",
    "        full_name = f\"{first} {last}\"\n",
    "    return full_name.title()\n",
    "get_formatted_name('janis','joplin')\n",
    "\n",
    "class NamesTestCase(unittest.TestCase):\n",
    "    \"\"\"Tests for 'name_function.py'\"\"\"\n",
    "    \n",
    "    def test_first_last_name(self):\n",
    "        \"\"\"Do names like 'Janis Joplin' work ?\"\"\"\n",
    "        formatted_name=get_formatted_name('janis','joplin')\n",
    "        self.assertEqual(formmated_name,'Janis Joplin')\n",
    "    \n",
    "    def test_first_last_middle_name(self):\n",
    "        \"\"\"Do names like 'Wolfgang Amadeus Mozart' work?\"\"\"\n",
    "        formatted_name=get_formatted_name(\n",
    "            'wolfgang','mozart','amadeus')\n",
    "        self.assertEquat(formatted_name,'Wolfgang Mozart Amadeus')\n",
    "        \n",
    "if __name__== '__main__':\n",
    "    unittest.main()"
   ]
  },
  {
   "cell_type": "code",
   "execution_count": 30,
   "id": "c5494447",
   "metadata": {},
   "outputs": [
    {
     "name": "stdout",
     "output_type": "stream",
     "text": [
      "What is your name?\n"
     ]
    }
   ],
   "source": [
    "#Testing a Class\n",
    "from survey import AnonymousSurvey as a\n",
    "question=AnonymousSurvey(\"What is your name?\")\n",
    "a.show_question(question)"
   ]
  },
  {
   "cell_type": "code",
   "execution_count": null,
   "id": "84277771",
   "metadata": {},
   "outputs": [],
   "source": []
  }
 ],
 "metadata": {
  "kernelspec": {
   "display_name": "Python 3",
   "language": "python",
   "name": "python3"
  },
  "language_info": {
   "codemirror_mode": {
    "name": "ipython",
    "version": 3
   },
   "file_extension": ".py",
   "mimetype": "text/x-python",
   "name": "python",
   "nbconvert_exporter": "python",
   "pygments_lexer": "ipython3",
   "version": "3.8.8"
  }
 },
 "nbformat": 4,
 "nbformat_minor": 5
}
